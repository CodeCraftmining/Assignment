{
  "nbformat": 4,
  "nbformat_minor": 0,
  "metadata": {
    "colab": {
      "provenance": []
    },
    "kernelspec": {
      "name": "python3",
      "display_name": "Python 3"
    },
    "language_info": {
      "name": "python"
    }
  },
  "cells": [
    {
      "cell_type": "markdown",
      "source": [
        "Q1. What is Object-Oriented Programming (OOP) ?\n",
        "\n",
        "- Object-Oriented Programming (OOP) is a programming paradigm based on the concept of objects, which can contain data (fields/attributes) and methods (functions that operate on the data).\n",
        "\n",
        "- It organizes software design around real-world entities such as objects, classes, and their interactions, rather than focusing only on functions and logic.\n",
        "\n",
        "- Key Concepts of OOP:\n",
        "\n",
        "1. Class - A blueprint for creating objects (defines attributes and methods).\n",
        "\n",
        "2. Object - An instance of a class that represents a real-world entity.\n",
        "\n",
        "3. Encapsulation - Binding data and methods together, restricting direct access to data.\n",
        "\n",
        "4. Abstraction - Hiding implementation details and showing only essential features.\n",
        "\n",
        "5. Inheritance - Mechanism to create new classes from existing ones (reusability).\n",
        "\n",
        "6. Polymorphism - Ability of an object to take many forms (method overloading/overriding)."
      ],
      "metadata": {
        "id": "0aXXZyAUIFrC"
      }
    },
    {
      "cell_type": "markdown",
      "source": [
        "Q2.What is a class in OOP ?\n",
        "\n",
        "- A class in Object-Oriented Programming (OOP) is a blueprint or template used to create objects.\n",
        "- It defines the attributes (data members/variables) and behaviors (methods/functions) that the objects created from it will have.\n",
        "- A class is a blueprint for objects, grouping data (fields) and functions (methods) into one unit. Objects created from a class inherit its properties and behaviors\n",
        "- For example, a Car class may have attributes like brand, speed and methods like drive().\n",
        "\n",
        "- Key Points:\n",
        "\n",
        "1. A class does not occupy memory until an object is created.\n",
        "\n",
        "2. It groups data and methods into a single unit.\n",
        "\n",
        "3. Objects are instances of a class."
      ],
      "metadata": {
        "id": "TZAHvGS_I2ZP"
      }
    },
    {
      "cell_type": "markdown",
      "source": [
        "Q3.What is an object in OOP ?\n",
        "\n",
        "- An object in OOP is a real-world entity or an instance of a class that contains data (attributes) and methods (behaviors) defined by the class.\n",
        "- It represents a specific implementation of the blueprint (class).\n",
        "- An object is an instance of a class in OOP. It is a real-world entity that has state (attributes) and behavior (methods). Objects are created from classes and occupy memory at runtime. For example, if Car is a class, then obj1 and obj2 are objects representing specific cars like Tesla or BMW.\n",
        "\n",
        "- Key Points:\n",
        "\n",
        "1. Objects are created from classes.\n",
        "\n",
        "2. Each object has its own state (values of attributes) and can perform actions (methods).\n",
        "\n",
        "3. Objects occupy memory at runtime."
      ],
      "metadata": {
        "id": "_J4jRjNOJrAV"
      }
    },
    {
      "cell_type": "markdown",
      "source": [
        "Q4.What is the difference between abstraction and encapsulation ?\n",
        "\n",
        "- Abstraction :\n",
        "1. The process of hiding implementation details and showing only the essential features to the user.\n",
        "2. Focuses on what an object does.\n",
        "3. Achieved using abstract classes and interfaces.\n",
        "4. To design a system by exposing only necessary details.\n",
        "5. Hides implementation details and exposes only functionality\n",
        "\n",
        "- Encapsulation:\n",
        "1. The process of wrapping data (variables) and methods (functions) into a single unit (class) and restricting direct access to data.\n",
        "2. Hides data by bundling variables and methods inside a class.\n",
        "3. Focuses on how data is protected.\n",
        "4. Achieved using classes, getters/setters, and access modifiers (private, public, protected).\n",
        "5. To protect data and ensure controlled access."
      ],
      "metadata": {
        "id": "1VdfltlbKG_R"
      }
    },
    {
      "cell_type": "markdown",
      "source": [
        "Q5.What are dunder methods in Python ?\n",
        "\n",
        "- Dunder methods (double underscore methods) in Python are predefined special methods that begin and end with __. They are used to customize how objects behave with built-in functions and operators. For example, __init__ is the constructor, __str__ controls string representation, and __add__ allows operator overloading for +. These methods help in writing clean, object-oriented, and intuitive code."
      ],
      "metadata": {
        "id": "-2mks7esLeRx"
      }
    },
    {
      "cell_type": "markdown",
      "source": [
        "Q6.Explain the concept of inheritance in OOP ?\n",
        "\n",
        "- Inheritance is one of the fundamental concepts of Object-Oriented Programming (OOP).\n",
        "- It is the mechanism by which one class (child/derived class) can acquire the properties and behaviors (fields and methods) of another class (parent/base class).\n",
        "- Key Points:\n",
        "\n",
        "1. Parent/Base/Super Class → The class whose properties are inherited.\n",
        "\n",
        "2. Child/Derived/Sub Class → The class that inherits from the parent class.\n",
        "\n",
        "3. Supports reusability of code and reduces redundancy.\n",
        "\n",
        "4. Allows method overriding (child can redefine parent methods)."
      ],
      "metadata": {
        "id": "v9G63vLyLu_n"
      }
    },
    {
      "cell_type": "markdown",
      "source": [
        "Q7.What is polymorphism in OOP ?\n",
        "\n",
        "- Polymorphism is an OOP principle that allows objects or methods to take many forms. It improves flexibility and reusability by allowing the same name to be used for different purposes. There are two main types: compile-time polymorphism (achieved by method overloading and operator overloading) and runtime polymorphism (achieved by method overriding through inheritance). For example, add() can work for both integers and doubles, and sound() can behave differently for Animal and Dog."
      ],
      "metadata": {
        "id": "uGNhY0VaMpf2"
      }
    },
    {
      "cell_type": "markdown",
      "source": [
        "Q8. How is encapsulation achieved in Python ?\n",
        "\n",
        "- Encapsulation in Python is implemented using classes and access modifiers. Private variables (with __) restrict direct access, ensuring data hiding. Controlled access is given through getter and setter methods or @property decorators. For example, in a Student class, attributes like __marks are private and can only be accessed or modified using setter and getter methods, ensuring secure and consistent data handling.\n",
        "\n",
        "- Ways Encapsulation is Achieved in Python:\n",
        "\n",
        "1. Using Private Variables\n",
        "\n",
        "- In Python, prefixing a variable/method with double underscore __ makes it private (not directly accessible outside the class).\n",
        "\n",
        "2. Using Getter and Setter Methods\n",
        "\n",
        "- To access or modify private variables, getter and setter methods are used.\n",
        "\n",
        "- This ensures data hiding and controlled access.\n",
        "\n",
        "3. Using Property Decorators (@property)\n",
        "\n",
        "- A Pythonic way to achieve encapsulation is by using properties, which make getters and setters cleaner."
      ],
      "metadata": {
        "id": "T8a3WgMkM50A"
      }
    },
    {
      "cell_type": "markdown",
      "source": [
        "Q9. What is a constructor in Python ?\n",
        "\n",
        "- A constructor in Python is a special method named __init__ that is automatically executed when an object of a class is created. It is used to initialize instance variables with default or user-provided values. For example, in a Student class, the constructor can initialize name and marks for each student object at the time of creation. Thus, constructors ensure proper initialization and reduce redundancy."
      ],
      "metadata": {
        "id": "oUTMCYvMNW4O"
      }
    },
    {
      "cell_type": "markdown",
      "source": [
        "Q10.What are class and static methods in Python ?\n",
        "\n",
        "- In Python, both class methods and static methods are special types of methods defined inside a class, but they work differently from normal instance methods.\n",
        "\n",
        "1. Class Methods:->\n",
        "\n",
        "- Defined using the @classmethod decorator.\n",
        "\n",
        "- Take cls (class reference) as the first parameter instead of self.\n",
        "\n",
        "- Can access and modify class-level variables but not instance variables.\n",
        "\n",
        "- Useful when we want a method that affects the class as a whole, not just individual objects.\n",
        "\n",
        " 2. Static Methods :->\n",
        "\n",
        "- Defined using the @staticmethod decorator.\n",
        "\n",
        "- Do not take self or cls as the first argument.\n",
        "\n",
        "- Cannot access instance variables or class variables directly.\n",
        "\n",
        "- Behave like normal functions but belong to the class’s namespace.\n",
        "\n",
        "- Used when the method logic is related to the class but doesn’t need object or class data."
      ],
      "metadata": {
        "id": "6Gdy3zcBNflb"
      }
    },
    {
      "cell_type": "markdown",
      "source": [
        "Q11.What is method overloading in Python ?\n",
        "\n",
        "- Method overloading is a feature in object-oriented programming that allows a class to have multiple methods with the same name but different parameters (number or type of arguments).\n",
        "\n",
        "- Key Points in Python:\n",
        "\n",
        "1. Python does not support traditional method overloading like Java or C++.\n",
        "\n",
        "- If you define multiple methods with the same name in a class, the last defined method overrides the previous ones.\n",
        "\n",
        "2. Alternative approaches to achieve method overloading in Python:"
      ],
      "metadata": {
        "id": "AEKIMf6ASewq"
      }
    },
    {
      "cell_type": "markdown",
      "source": [
        "Q12. What is method overriding in OOP ?\n",
        "\n",
        "- Method overriding occurs when a subclass provides its own implementation of a method that is already defined in its parent (super) class. The method in the subclass has the same name, parameters, and return type as the method in the parent class.\n",
        "\n",
        "- Key Points:\n",
        "\n",
        "1. Purpose:\n",
        "\n",
        "- To change or extend the behavior of a method inherited from the parent class.\n",
        "\n",
        "- Supports runtime polymorphism in OOP.\n",
        "\n",
        "2. Requirements for Overriding:\n",
        "\n",
        "- The method name must be the same in both parent and child class.\n",
        "\n",
        "- The parameter list must be the same.\n",
        "- Return type should ideally be the same (Python is flexible with this)."
      ],
      "metadata": {
        "id": "YHPMNtR1TXdC"
      }
    },
    {
      "cell_type": "markdown",
      "source": [
        "Q13. What is a property decorator in Python ?\n",
        "\n",
        "- A property decorator (@property) in Python is used to turn a method of a class into a “read-only” attribute. It allows you to access a method like an attribute without explicitly calling it with parentheses.\n",
        "\n",
        "- Key Points:\n",
        "\n",
        "1. Encapsulation & Getter:\n",
        "\n",
        "- Property decorators help in encapsulating private attributes while still allowing controlled access.\n",
        "\n",
        "- They act as a getter method for a class attribute."
      ],
      "metadata": {
        "id": "PW8gh7XUUjSl"
      }
    },
    {
      "cell_type": "markdown",
      "source": [
        "Q14. Why is polymorphism important in OOP ?\n",
        "\n",
        "- Polymorphism means “many forms”. In OOP, it allows objects of different classes to be treated through the same interface, often by calling methods with the same name but different behaviors.\n",
        "\n",
        "- Importance of Polymorphism:\n",
        "\n",
        "1. Code Reusability:\n",
        "\n",
        "- Polymorphism allows you to write code that works with multiple object types without modification.\n",
        "\n",
        "- Example: A function that calls draw() can work for Circle, Rectangle, or Triangle objects.\n",
        "\n",
        "2. Flexibility & Extensibility:\n",
        "\n",
        "- You can add new classes without changing existing code.\n",
        "\n",
        "- Example: Adding a Square class that implements draw() doesn’t require changing the function that draws shapes.\n",
        "\n",
        "3. Simplifies Code Maintenance:\n",
        "\n",
        "- Avoids repetitive conditional statements to check object types.\n",
        "\n",
        "- Reduces complexity and makes code cleaner.\n",
        "\n",
        "4. Supports Runtime Polymorphism (Dynamic Binding):\n",
        "- In languages like Python, the method called depends on the object type at runtime, enabling more flexible designs."
      ],
      "metadata": {
        "id": "raSX1c-iVYez"
      }
    },
    {
      "cell_type": "markdown",
      "source": [
        "Q15.What is an abstract class in Python ?\n",
        "\n",
        "- An abstract class is a class that cannot be instantiated directly and is meant to be subclassed. It can contain abstract methods, which are methods declared but not implemented. Subclasses must override these methods to provide concrete implementations.\n",
        "\n",
        "- Key Points:\n",
        "\n",
        "1. Purpose of Abstract Classes:\n",
        "\n",
        "- Enforce that certain methods must be implemented in derived classes.\n",
        "\n",
        "- Provide a template for other classes.\n",
        "\n",
        "- Promote code consistency in OOP designs.\n",
        "\n",
        "2. How to Create an Abstract Class in Python:\n",
        "\n",
        "- Python provides the abc module (Abstract Base Class) to define abstract classes."
      ],
      "metadata": {
        "id": "Qh7l-lPSYBlD"
      }
    },
    {
      "cell_type": "markdown",
      "source": [
        "Q16. What are the advantages of OOP ?\n",
        "\n",
        "- Advantages of OOP:->\n",
        "\n",
        "1. Modularity:\n",
        "\n",
        "- Code is organized into classes and objects, making it modular.\n",
        "\n",
        "- Each class represents a separate component, which is easier to develop, test, and maintain.\n",
        "\n",
        "2. Reusability:\n",
        "\n",
        "- Classes and objects can be reused in different programs.\n",
        "\n",
        "- Inheritance allows new classes to reuse existing functionality without rewriting code.\n",
        "\n",
        "3. Encapsulation (Data Hiding):\n",
        "\n",
        "- OOP hides internal details of objects using private attributes and methods.\n",
        "\n",
        "- Provides controlled access via getters and setters, improving security and integrity of data.\n",
        "\n",
        "4. Polymorphism:\n",
        "\n",
        "- Enables single interface, multiple behaviors.\n",
        "\n",
        "- Functions or methods can work with different object types, improving flexibility and reducing code complexity.\n",
        "\n",
        "5. Abstraction:\n",
        "\n",
        "- Only essential details are exposed while hiding internal complexity.\n",
        "\n",
        "- Helps in reducing programming complexity and focusing on higher-level design.\n",
        "\n",
        "6. Maintainability and Scalability:\n",
        "\n",
        "- OOP design makes code easier to maintain, modify, and extend.\n",
        "\n",
        "- Adding new features often requires minimal changes to existing code.\n",
        "\n",
        "7. Real-world Modeling:\n",
        "\n",
        "- Objects in OOP can represent real-world entities naturally.\n",
        "\n",
        "- Makes design intuitive and closer to real-world scenarios.\n",
        "\n",
        "8. Improved Productivity:\n",
        "\n",
        "- Reusable components, modularity, and maintainability reduce development time.\n",
        "\n",
        "- Teams can work on different classes simultaneously."
      ],
      "metadata": {
        "id": "PCCG7acIaapU"
      }
    },
    {
      "cell_type": "markdown",
      "source": [
        "Q17. What is the difference between a class variable and an instance variable ?\n",
        "\n",
        "- CLASS VARIABLE ->\n",
        "1. A variable that is shared by all instances of a class.\n",
        "2. Inside the class but outside any method.\n",
        "3. Shared across all objects of the class.\n",
        "4. Can be accessed using ClassName.variable or self.variable.\n",
        "5. Stored in a single memory location shared by all objects.\n",
        "6. For constants or properties common to all objects.\n",
        "\n",
        "- Instance Variable ->\n",
        "1. A variable that is unique to each instance of a class.\n",
        "2. Inside a method, usually inside __init__(), using self.\n",
        "3. Belongs to a specific object only.\n",
        "4. Accessed only through self.variable.\n",
        "5. Each object has its own copy in memory.\n",
        "6. For attributes that differ between objects."
      ],
      "metadata": {
        "id": "3kTRXuL9ec25"
      }
    },
    {
      "cell_type": "markdown",
      "source": [
        "Q18. What is multiple inheritance in Python ?\n",
        "\n",
        "- Multiple inheritance is a feature of OOP where a class can inherit from more than one parent class.\n",
        "- This allows the child class to access attributes and methods from multiple base classes.\n",
        "\n",
        "- Syntax:\n",
        "\n",
        "- class Parent1:\n",
        "    def func1(self):\n",
        "        print(\"Function in Parent1\")\n",
        "\n",
        "- class Parent2:\n",
        "    def func2(self):\n",
        "        print(\"Function in Parent2\")\n",
        "\n",
        "- class Child(Parent1, Parent2):\n",
        "    def func3(self):\n",
        "        print(\"Function in Child\")"
      ],
      "metadata": {
        "id": "SzC5bwpjfcZd"
      }
    },
    {
      "cell_type": "markdown",
      "source": [
        "Q19.Explain the purpose of ‘’__str__’ and ‘__repr __’ ‘ methods in Python ?\n",
        "\n",
        " 1. __str__ Method\n",
        "\n",
        "- Purpose:\n",
        "\n",
        "- The __str__ method is used to return a readable or informal string representation of an object.\n",
        "\n",
        "- It is meant for end-users.\n",
        "\n",
        "- Called when using print(object) or str(object).\n",
        "\n",
        "2. __repr__ Method\n",
        "\n",
        "- Purpose:\n",
        "\n",
        "- The __repr__ method is used to return an official or unambiguous string representation of an object.\n",
        "\n",
        "- Ideally, it should help recreate the object when passed to eval().\n",
        "\n",
        "- Meant for developers and debugging.\n",
        "\n",
        "- Called when using repr(object) or in an interactive interpreter.\n"
      ],
      "metadata": {
        "id": "Iafbistjf0tu"
      }
    },
    {
      "cell_type": "markdown",
      "source": [
        "Q20.What is the significance of the ‘super()’ function in Python ?\n",
        "\n",
        "- The super() function returns a temporary object of the superclass, which allows you to call its methods and access its properties.\n",
        "It is commonly used in inheritance, especially in single, multiple, and multilevel inheritance.\n",
        "\n",
        "- Significance / Purpose of super():\n",
        "\n",
        "1. Access Parent Class Methods:\n",
        "\n",
        "- Allows a child class to call a method from its parent class.\n",
        "\n",
        "- Avoids explicitly naming the parent class, making code more flexible.\n",
        "\n",
        "2. Supports Multiple Inheritance:\n",
        "\n",
        "- In multiple inheritance, super() follows the Method Resolution Order (MRO) to determine which method to call.\n",
        "\n",
        "- Ensures proper initialization of all parent classes.\n",
        "\n",
        "3. Avoids Code Duplication:\n",
        "\n",
        "- Instead of rewriting code in child classes, you can reuse parent class methods.\n",
        "\n",
        "4. Common Use Case: Constructor Inheritance"
      ],
      "metadata": {
        "id": "mvkng04KgPXn"
      }
    },
    {
      "cell_type": "markdown",
      "source": [
        "Q21.What is the significance of the __del__ method in Python ?\n",
        "\n",
        "- The __del__ method in Python is called a destructor. It is a special method that is automatically invoked when an object is about to be destroyed or garbage collected.\n",
        "\n",
        "- Significance / Purpose:\n",
        "\n",
        "1. Resource Cleanup:\n",
        "\n",
        "- __del__ is used to release resources (like file handles, network connections, or database connections) when an object is no longer needed.\n",
        "\n",
        "2. Automatic Invocation:\n",
        "\n",
        "- You don’t call __del__ explicitly; Python calls it when the object’s reference count drops to zero.\n",
        "\n",
        "3. Helps with Memory Management:\n",
        "\n",
        "- Ensures that temporary objects are cleaned up, which prevents memory leaks in long-running programs."
      ],
      "metadata": {
        "id": "NM1-5_xRgk4M"
      }
    },
    {
      "cell_type": "markdown",
      "source": [
        "Q22.What is the difference between @staticmethod and @classmethod in Python ?\n",
        "\n",
        "- @staticmethod ->\n",
        "1. Defines a method that does not access instance (self) or class (cls) variables.\n",
        "2. Cannot access instance or class variables.\n",
        "3. No default parameter like self or cls.\n",
        "4. Utility functions related to the class but independent of class/instance state.\n",
        "5. Can be called on class or instance: Class.method() or obj.method()\n",
        "\n",
        "- @classmethod->\n",
        "1. Defines a method that accesses class variables or methods via cls.\n",
        "2. Can access class variables and other class methods.\n",
        "3. First parameter is cls, referring to the class itself.\n",
        "4. Factory methods or methods that modify class-level data.\n",
        "5. Can be called on class or instance: Class.method() or obj.method()"
      ],
      "metadata": {
        "id": "z6_301_5g3_5"
      }
    },
    {
      "cell_type": "markdown",
      "source": [
        "Q23.How does polymorphism work in Python with inheritance ?\n",
        "\n",
        "- Polymorphism means “many forms”. In Python, it allows objects of different classes to be treated through a common interface, usually via inheritance.\n",
        "\n",
        "With inheritance, child classes can override parent class methods, and the appropriate method is called based on the object type at runtime. This is called runtime polymorphism (dynamic method dispatch).\n",
        "\n",
        "- How It Works\n",
        "\n",
        "1. Parent Class Method:\n",
        "\n",
        "- Defines a method that can be overridden in child classes.\n",
        "\n",
        "2. Child Class Method:\n",
        "\n",
        "- Overrides the parent method to provide specific behavior.\n",
        "\n",
        "3. Polymorphic Behavior:\n",
        "\n",
        "- When you call the method on a parent reference holding a child object, Python calls the child’s overridden method."
      ],
      "metadata": {
        "id": "NhS5NX8Ihbfl"
      }
    },
    {
      "cell_type": "markdown",
      "source": [
        "Q24.What is method chaining in Python OOP ?\n",
        "\n",
        "- Method chaining is a programming technique where multiple methods are called on the same object in a single statement, one after another.\n",
        "This is achieved by designing methods to return the object itself (self), allowing subsequent method calls.\n",
        "\n",
        "- Key Points:\n",
        "\n",
        "1. How It Works:\n",
        "\n",
        "- Each method performs an operation and returns self (the current object).\n",
        "\n",
        "- This allows calling another method on the returned object immediately.\n",
        "\n",
        "2. Advantages:\n",
        "\n",
        "- Makes code concise and readable.\n",
        "\n",
        "- Useful for fluent interfaces and builder patterns.\n",
        "\n",
        "- Avoids writing multiple separate statements."
      ],
      "metadata": {
        "id": "G7FEiH3chuam"
      }
    },
    {
      "cell_type": "markdown",
      "source": [
        "Q25.What is the purpose of the __call__ method in Python ?\n",
        "\n",
        "- The __call__ method is a special (dunder) method in Python that allows an instance of a class to be called like a function.\n",
        "When an object is followed by parentheses (), Python internally calls the __call__ method of that object.\n",
        "\n",
        "- Purpose / Significance:\n",
        "\n",
        "1. Make Objects Callable:\n",
        "\n",
        "- Normally, functions are callable with ().\n",
        "\n",
        "- By defining __call__, objects can behave like functions.\n",
        "\n",
        "2. Encapsulation of Behavior:\n",
        "\n",
        "- Useful to store state in objects and perform function-like operations with that state.\n",
        "\n",
        "3. Functional Programming Patterns:\n",
        "\n",
        "- Can be used in decorators, callbacks, or factory patterns where objects need to act like functions."
      ],
      "metadata": {
        "id": "T456CNTwh9uU"
      }
    },
    {
      "cell_type": "markdown",
      "source": [
        "**Practical Questions**"
      ],
      "metadata": {
        "id": "maavVbvsiXdf"
      }
    },
    {
      "cell_type": "markdown",
      "source": [
        "1. Create a parent class Animal with a method speak() that prints a generic message. Create a child class Dog\n",
        "that overrides the speak() method to print \"Bark!\"."
      ],
      "metadata": {
        "id": "cV6tkZOPpHmJ"
      }
    },
    {
      "cell_type": "code",
      "source": [
        "class Animal:\n",
        "    def speak(self):\n",
        "        print(\"This animal makes a sound\")\n",
        "\n",
        "class Dog(Animal):\n",
        "    def speak(self):\n",
        "        print(\"Bark!\")\n",
        "\n",
        "a = Animal()\n",
        "a.speak()\n",
        "\n",
        "d = Dog()\n",
        "d.speak()\n"
      ],
      "metadata": {
        "colab": {
          "base_uri": "https://localhost:8080/"
        },
        "id": "RXmF0SkjpKSg",
        "outputId": "84035706-bded-4f94-eb2b-23a6e15d0ea1"
      },
      "execution_count": 1,
      "outputs": [
        {
          "output_type": "stream",
          "name": "stdout",
          "text": [
            "This animal makes a sound\n",
            "Bark!\n"
          ]
        }
      ]
    },
    {
      "cell_type": "markdown",
      "source": [
        "2. Write a program to create an abstract class Shape with a method area(). Derive classes Circle and Rectangle\n",
        "from it and implement the area() method in both."
      ],
      "metadata": {
        "id": "QmDVe7guppmm"
      }
    },
    {
      "cell_type": "code",
      "source": [
        "from abc import ABC, abstractmethod\n",
        "import math\n",
        "\n",
        "class Shape(ABC):\n",
        "    @abstractmethod\n",
        "    def area(self):\n",
        "        pass\n",
        "\n",
        "class Circle(Shape):\n",
        "    def __init__(self, radius):\n",
        "        self.radius = radius\n",
        "\n",
        "    def area(self):\n",
        "        return math.pi * self.radius ** 2\n",
        "\n",
        "class Rectangle(Shape):\n",
        "    def __init__(self, length, width):\n",
        "        self.length = length\n",
        "        self.width = width\n",
        "\n",
        "    def area(self):\n",
        "        return self.length * self.width\n",
        "\n",
        "c = Circle(5)\n",
        "r = Rectangle(4, 6)\n",
        "print(c.area())\n",
        "print(r.area())\n"
      ],
      "metadata": {
        "colab": {
          "base_uri": "https://localhost:8080/"
        },
        "id": "QszLl8PMpqVL",
        "outputId": "c24caa8a-ac50-4912-ccae-86deab13b0ec"
      },
      "execution_count": 31,
      "outputs": [
        {
          "output_type": "stream",
          "name": "stdout",
          "text": [
            "78.53981633974483\n",
            "24\n"
          ]
        }
      ]
    },
    {
      "cell_type": "markdown",
      "source": [
        "3. Implement a multi-level inheritance scenario where a class Vehicle has an attribute type. Derive a class Car\n",
        "and further derive a class ElectricCar that adds a battery attribute."
      ],
      "metadata": {
        "id": "qXQF9P_wp3DJ"
      }
    },
    {
      "cell_type": "code",
      "source": [
        "class Vehicle:\n",
        "    def __init__(self, type_):\n",
        "        self.type = type_\n",
        "\n",
        "class Car(Vehicle):\n",
        "    def __init__(self, type_, brand):\n",
        "        super().__init__(type_)\n",
        "        self.brand = brand\n",
        "\n",
        "class ElectricCar(Car):\n",
        "    def __init__(self, type_, brand, battery):\n",
        "        super().__init__(type_, brand)\n",
        "        self.battery = battery\n",
        "\n",
        "\n",
        "ecar = ElectricCar(\"Car\", \"Tesla\", \"100 kWh\")\n",
        "print(ecar.type, ecar.brand, ecar.battery)\n"
      ],
      "metadata": {
        "colab": {
          "base_uri": "https://localhost:8080/"
        },
        "id": "SeFANh3Gp6nb",
        "outputId": "4a15f48d-f768-4b96-fcdc-5f6621f7103a"
      },
      "execution_count": 30,
      "outputs": [
        {
          "output_type": "stream",
          "name": "stdout",
          "text": [
            "Car Tesla 100 kWh\n"
          ]
        }
      ]
    },
    {
      "cell_type": "markdown",
      "source": [
        "4. Demonstrate polymorphism by creating a base class Bird with a method fly(). Create two derived classes\n",
        "Sparrow and Penguin that override the fly() method.\n"
      ],
      "metadata": {
        "id": "rrcds-lOqD10"
      }
    },
    {
      "cell_type": "code",
      "source": [
        "class Bird:\n",
        "    def fly(self):\n",
        "        print(\"This bird can fly\")\n",
        "\n",
        "class Sparrow(Bird):\n",
        "    def fly(self):\n",
        "        print(\"Sparrow is flying\")\n",
        "\n",
        "class Penguin(Bird):\n",
        "    def fly(self):\n",
        "        print(\"Penguin cannot fly\")\n",
        "\n",
        "\n",
        "birds = [Sparrow(), Penguin()]\n",
        "for bird in birds:\n",
        "    bird.fly()\n"
      ],
      "metadata": {
        "colab": {
          "base_uri": "https://localhost:8080/"
        },
        "id": "W1prCTuGqEgQ",
        "outputId": "9bd7462d-bb61-4941-bb7f-6a82758dd536"
      },
      "execution_count": 4,
      "outputs": [
        {
          "output_type": "stream",
          "name": "stdout",
          "text": [
            "Sparrow is flying\n",
            "Penguin cannot fly\n"
          ]
        }
      ]
    },
    {
      "cell_type": "markdown",
      "source": [
        "5. Write a program to demonstrate encapsulation by creating a class BankAccount with private attributes\n",
        "balance and methods to deposit, withdraw, and check balance."
      ],
      "metadata": {
        "id": "Lm_Vw0MeqP1x"
      }
    },
    {
      "cell_type": "code",
      "source": [
        "class BankAccount:\n",
        "    def __init__(self, balance):\n",
        "        self.__balance = balance\n",
        "\n",
        "    def deposit(self, amount):\n",
        "        self.__balance += amount\n",
        "\n",
        "    def withdraw(self, amount):\n",
        "        if amount <= self.__balance:\n",
        "            self.__balance -= amount\n",
        "        else:\n",
        "            print(\"Insufficient balance\")\n",
        "\n",
        "    def check_balance(self):\n",
        "        return self.__balance\n",
        "\n",
        "\n",
        "acc = BankAccount(1000)\n",
        "acc.deposit(500)\n",
        "acc.withdraw(200)\n",
        "print(acc.check_balance())\n"
      ],
      "metadata": {
        "colab": {
          "base_uri": "https://localhost:8080/"
        },
        "id": "TGF2CSDiqQYG",
        "outputId": "e5319af2-8adc-4a5c-8bec-8e38b345b4f6"
      },
      "execution_count": 29,
      "outputs": [
        {
          "output_type": "stream",
          "name": "stdout",
          "text": [
            "1300\n"
          ]
        }
      ]
    },
    {
      "cell_type": "markdown",
      "source": [
        "6. Demonstrate runtime polymorphism using a method play() in a base class Instrument. Derive classes Guitar\n",
        "and Piano that implement their own version of play()."
      ],
      "metadata": {
        "id": "LTq6kXMNqw4-"
      }
    },
    {
      "cell_type": "code",
      "source": [
        "class Instrument:\n",
        "    def play(self):\n",
        "        print(\"Playing instrument\")\n",
        "\n",
        "class Guitar(Instrument):\n",
        "    def play(self):\n",
        "        print(\"Playing guitar\")\n",
        "\n",
        "class Piano(Instrument):\n",
        "    def play(self):\n",
        "        print(\"Playing piano\")\n",
        "\n",
        "\n",
        "instruments = [Guitar(), Piano()]\n",
        "for instr in instruments:\n",
        "    instr.play()\n"
      ],
      "metadata": {
        "colab": {
          "base_uri": "https://localhost:8080/"
        },
        "id": "A06RAc_1qx0x",
        "outputId": "98647fed-3cea-4363-91f3-97a63a895c64"
      },
      "execution_count": 6,
      "outputs": [
        {
          "output_type": "stream",
          "name": "stdout",
          "text": [
            "Playing guitar\n",
            "Playing piano\n"
          ]
        }
      ]
    },
    {
      "cell_type": "markdown",
      "source": [
        "7. Create a class MathOperations with a class method add_numbers() to add two numbers and a static\n",
        "method subtract_numbers() to subtract two numbers."
      ],
      "metadata": {
        "id": "SotpiKVtq4oD"
      }
    },
    {
      "cell_type": "code",
      "source": [
        "class MathOperations:\n",
        "    @classmethod\n",
        "    def add_numbers(cls, a, b):\n",
        "        return a + b\n",
        "\n",
        "    @staticmethod\n",
        "    def subtract_numbers(a, b):\n",
        "        return a - b\n",
        "\n",
        "print(MathOperations.add_numbers(5, 3))\n",
        "print(MathOperations.subtract_numbers(5, 3))\n"
      ],
      "metadata": {
        "colab": {
          "base_uri": "https://localhost:8080/"
        },
        "id": "KSgsSATJq5NR",
        "outputId": "ce0846a7-f934-4186-e953-532fa7ae3aa6"
      },
      "execution_count": 7,
      "outputs": [
        {
          "output_type": "stream",
          "name": "stdout",
          "text": [
            "8\n",
            "2\n"
          ]
        }
      ]
    },
    {
      "cell_type": "markdown",
      "source": [
        "8. Implement a class Person with a class method to count the total number of persons created"
      ],
      "metadata": {
        "id": "ejNiEWM-rA94"
      }
    },
    {
      "cell_type": "code",
      "source": [
        "class Person:\n",
        "    count = 0\n",
        "\n",
        "    def __init__(self, name):\n",
        "        self.name = name\n",
        "        Person.count += 1\n",
        "\n",
        "    @classmethod\n",
        "    def total_persons(cls):\n",
        "        return cls.count\n",
        "\n",
        "p1 = Person(\"Alice\")\n",
        "p2 = Person(\"Bob\")\n",
        "print(Person.total_persons())\n"
      ],
      "metadata": {
        "colab": {
          "base_uri": "https://localhost:8080/"
        },
        "id": "2xgs87TarBhk",
        "outputId": "61e50ef2-0ece-4cd7-ba6a-03c162e12b02"
      },
      "execution_count": 28,
      "outputs": [
        {
          "output_type": "stream",
          "name": "stdout",
          "text": [
            "2\n"
          ]
        }
      ]
    },
    {
      "cell_type": "markdown",
      "source": [
        "9. Write a class Fraction with attributes numerator and denominator. Override the str method to display the\n",
        "fraction as \"numerator/denominator\"."
      ],
      "metadata": {
        "id": "A01oZlctrLtF"
      }
    },
    {
      "cell_type": "code",
      "source": [
        "class Fraction:\n",
        "    def __init__(self, numerator, denominator):\n",
        "        self.numerator = numerator\n",
        "        self.denominator = denominator\n",
        "\n",
        "    def __str__(self):\n",
        "        return f\"{self.numerator}/{self.denominator}\"\n",
        "\n",
        "f = Fraction(3, 4)\n",
        "print(f)\n"
      ],
      "metadata": {
        "colab": {
          "base_uri": "https://localhost:8080/"
        },
        "id": "_O-QSmrQrMSh",
        "outputId": "f1b121b9-7e7e-4083-9faf-f1285c543e1f"
      },
      "execution_count": 27,
      "outputs": [
        {
          "output_type": "stream",
          "name": "stdout",
          "text": [
            "3/4\n"
          ]
        }
      ]
    },
    {
      "cell_type": "markdown",
      "source": [
        "10. Demonstrate operator overloading by creating a class Vector and overriding the add method to add two\n",
        "vectors."
      ],
      "metadata": {
        "id": "KaR7bq2drUDz"
      }
    },
    {
      "cell_type": "code",
      "source": [
        "class Vector:\n",
        "    def __init__(self, x, y):\n",
        "        self.x = x\n",
        "        self.y = y\n",
        "\n",
        "    def __add__(self, other):\n",
        "        return Vector(self.x + other.x, self.y + other.y)\n",
        "\n",
        "    def __str__(self):\n",
        "        return f\"({self.x}, {self.y})\"\n",
        "\n",
        "v1 = Vector(2, 3)\n",
        "v2 = Vector(4, 5)\n",
        "v3 = v1 + v2\n",
        "print(v3)\n"
      ],
      "metadata": {
        "colab": {
          "base_uri": "https://localhost:8080/"
        },
        "id": "tZbvINmdrXtR",
        "outputId": "bf2526c7-9850-438c-aa42-197234cd82d0"
      },
      "execution_count": 26,
      "outputs": [
        {
          "output_type": "stream",
          "name": "stdout",
          "text": [
            "(6, 8)\n"
          ]
        }
      ]
    },
    {
      "cell_type": "markdown",
      "source": [
        "11. Create a class Person with attributes name and age. Add a method greet() that prints \"Hello, my name is\n",
        "{name} and I am {age} years old.\""
      ],
      "metadata": {
        "id": "kraXw-largGY"
      }
    },
    {
      "cell_type": "code",
      "source": [
        "class Person:\n",
        "    def __init__(self, name, age):\n",
        "        self.name = name\n",
        "        self.age = age\n",
        "\n",
        "    def greet(self):\n",
        "        print(f\"Hello, my name is {self.name} and I am {self.age} years old.\")\n",
        "\n",
        "\n",
        "p = Person(\"John\", 25)\n",
        "p.greet()\n"
      ],
      "metadata": {
        "colab": {
          "base_uri": "https://localhost:8080/"
        },
        "id": "rfUSktCNrgp5",
        "outputId": "c13bf8ec-21cb-42b0-e111-5b3e0eb46a49"
      },
      "execution_count": 25,
      "outputs": [
        {
          "output_type": "stream",
          "name": "stdout",
          "text": [
            "Hello, my name is John and I am 25 years old.\n"
          ]
        }
      ]
    },
    {
      "cell_type": "markdown",
      "source": [
        "12. Implement a class Student with attributes name and grades. Create a method average_grade() to compute\n",
        "the average of the grades"
      ],
      "metadata": {
        "id": "t0-7TmQyrlB0"
      }
    },
    {
      "cell_type": "code",
      "source": [
        "class Student:\n",
        "    def __init__(self, name, grades):\n",
        "        self.name = name\n",
        "        self.grades = grades\n",
        "\n",
        "    def average_grade(self):\n",
        "        return sum(self.grades) / len(self.grades)\n",
        "\n",
        "\n",
        "s = Student(\"Alice\", [80, 90, 85])\n",
        "print(s.average_grade())\n"
      ],
      "metadata": {
        "colab": {
          "base_uri": "https://localhost:8080/"
        },
        "id": "IQI8xWIFrnaV",
        "outputId": "532c5a8f-3d19-4ba9-c228-461bb5b1edf1"
      },
      "execution_count": 24,
      "outputs": [
        {
          "output_type": "stream",
          "name": "stdout",
          "text": [
            "85.0\n"
          ]
        }
      ]
    },
    {
      "cell_type": "markdown",
      "source": [
        "13. Create a class Rectangle with methods set_dimensions() to set the dimensions and area() to calculate the\n",
        "area"
      ],
      "metadata": {
        "id": "dtsO1qJtrsXV"
      }
    },
    {
      "cell_type": "code",
      "source": [
        "class Rectangle:\n",
        "    def set_dimensions(self, length, width):\n",
        "        self.length = length\n",
        "        self.width = width\n",
        "\n",
        "    def area(self):\n",
        "        return self.length * self.width\n",
        "\n",
        "rect = Rectangle()\n",
        "rect.set_dimensions(4, 5)\n",
        "print(rect.area())\n"
      ],
      "metadata": {
        "colab": {
          "base_uri": "https://localhost:8080/"
        },
        "id": "0qGn3a6xrvbj",
        "outputId": "0f526dcb-c7ae-4413-8cea-9a1f1081a429"
      },
      "execution_count": 23,
      "outputs": [
        {
          "output_type": "stream",
          "name": "stdout",
          "text": [
            "20\n"
          ]
        }
      ]
    },
    {
      "cell_type": "markdown",
      "source": [
        "14. Create a class Employee with a method calculate_salary() that computes the salary based on hours worked\n",
        "and hourly rate. Create a derived class Manager that adds a bonus to the salary"
      ],
      "metadata": {
        "id": "hSBUhUVMrzJm"
      }
    },
    {
      "cell_type": "code",
      "source": [
        "class Employee:\n",
        "    def __init__(self, name, hours_worked, hourly_rate):\n",
        "        self.name = name\n",
        "        self.hours_worked = hours_worked\n",
        "        self.hourly_rate = hourly_rate\n",
        "\n",
        "    def calculate_salary(self):\n",
        "        return self.hours_worked * self.hourly_rate\n",
        "\n",
        "class Manager(Employee):\n",
        "    def __init__(self, name, hours_worked, hourly_rate, bonus):\n",
        "        super().__init__(name, hours_worked, hourly_rate)\n",
        "        self.bonus = bonus\n",
        "\n",
        "    def calculate_salary(self):\n",
        "        return super().calculate_salary() + self.bonus\n",
        "\n",
        "\n",
        "e = Employee(\"John\", 40, 20)\n",
        "m = Manager(\"Alice\", 40, 20, 500)\n",
        "print(e.calculate_salary())\n",
        "print(m.calculate_salary())\n"
      ],
      "metadata": {
        "colab": {
          "base_uri": "https://localhost:8080/"
        },
        "id": "-wvDazacrzpb",
        "outputId": "3d4eacf5-64e5-4df8-97d4-e80c253ab8a5"
      },
      "execution_count": 22,
      "outputs": [
        {
          "output_type": "stream",
          "name": "stdout",
          "text": [
            "800\n",
            "1300\n"
          ]
        }
      ]
    },
    {
      "cell_type": "markdown",
      "source": [
        "15. Create a class Product with attributes name, price, and quantity. Implement a method total_price() that\n",
        "calculates the total price of the product."
      ],
      "metadata": {
        "id": "PEJPaBfur5Q9"
      }
    },
    {
      "cell_type": "code",
      "source": [
        "class Product:\n",
        "    def __init__(self, name, price, quantity):\n",
        "        self.name = name\n",
        "        self.price = price\n",
        "        self.quantity = quantity\n",
        "\n",
        "    def total_price(self):\n",
        "        return self.price * self.quantity\n",
        "\n",
        "\n",
        "p = Product(\"Laptop\", 500, 3)\n",
        "print(p.total_price())\n"
      ],
      "metadata": {
        "colab": {
          "base_uri": "https://localhost:8080/"
        },
        "id": "CMr-s5Hnr6F5",
        "outputId": "285337f9-efc4-4579-8811-bd711480bab3"
      },
      "execution_count": 21,
      "outputs": [
        {
          "output_type": "stream",
          "name": "stdout",
          "text": [
            "1500\n"
          ]
        }
      ]
    },
    {
      "cell_type": "markdown",
      "source": [
        "16. Create a class Animal with an abstract method sound(). Create two derived classes Cow and Sheep that\n",
        "implement the sound() method."
      ],
      "metadata": {
        "id": "gz-MfTO8r7Bl"
      }
    },
    {
      "cell_type": "code",
      "source": [
        "from abc import ABC, abstractmethod\n",
        "\n",
        "class Animal(ABC):\n",
        "    @abstractmethod\n",
        "    def sound(self):\n",
        "        pass\n",
        "\n",
        "class Cow(Animal):\n",
        "    def sound(self):\n",
        "        print(\"Moo\")\n",
        "\n",
        "class Sheep(Animal):\n",
        "    def sound(self):\n",
        "        print(\"Baa\")\n",
        "\n",
        "\n",
        "animals = [Cow(), Sheep()]\n",
        "for a in animals:\n",
        "    a.sound()\n"
      ],
      "metadata": {
        "colab": {
          "base_uri": "https://localhost:8080/"
        },
        "id": "l8jUn3m1r9EG",
        "outputId": "afd88692-5551-4286-b59f-c553547be59a"
      },
      "execution_count": 20,
      "outputs": [
        {
          "output_type": "stream",
          "name": "stdout",
          "text": [
            "Moo\n",
            "Baa\n"
          ]
        }
      ]
    },
    {
      "cell_type": "markdown",
      "source": [
        "17. Create a class Book with attributes title, author, and year_published. Add a method get_book_info() that\n",
        "returns a formatted string with the book's details."
      ],
      "metadata": {
        "id": "Yw02XVtMr9xW"
      }
    },
    {
      "cell_type": "code",
      "source": [
        "class Book:\n",
        "    def __init__(self, title, author, year_published):\n",
        "        self.title = title\n",
        "        self.author = author\n",
        "        self.year_published = year_published\n",
        "\n",
        "    def get_book_info(self):\n",
        "        return f\"'{self.title}' by {self.author}, published in {self.year_published}\"\n",
        "\n",
        "b = Book(\"1984\", \"George Orwell\", 1949)\n",
        "print(b.get_book_info())\n"
      ],
      "metadata": {
        "colab": {
          "base_uri": "https://localhost:8080/"
        },
        "id": "_uabYiKlsBFJ",
        "outputId": "ee144514-5bd3-479a-dabc-ac04ce631cad"
      },
      "execution_count": 19,
      "outputs": [
        {
          "output_type": "stream",
          "name": "stdout",
          "text": [
            "'1984' by George Orwell, published in 1949\n"
          ]
        }
      ]
    },
    {
      "cell_type": "markdown",
      "source": [
        "18. Create a class House with attributes address and price. Create a derived class Mansion that adds an\n",
        "attribute number_of_rooms."
      ],
      "metadata": {
        "id": "6V6J_oVQsDeM"
      }
    },
    {
      "cell_type": "code",
      "source": [
        "class House:\n",
        "    def __init__(self, address, price):\n",
        "        self.address = address\n",
        "        self.price = price\n",
        "\n",
        "class Mansion(House):\n",
        "    def __init__(self, address, price, number_of_rooms):\n",
        "        super().__init__(address, price)\n",
        "        self.number_of_rooms = number_of_rooms\n",
        "\n",
        "m = Mansion(\"123 Luxury St\", 1000000, 10)\n",
        "print(m.address, m.price, m.number_of_rooms)\n"
      ],
      "metadata": {
        "colab": {
          "base_uri": "https://localhost:8080/"
        },
        "id": "-PUTAKPwsEEI",
        "outputId": "9ff6e3e1-11c2-4de0-b1ab-0fc7fb161cc2"
      },
      "execution_count": 18,
      "outputs": [
        {
          "output_type": "stream",
          "name": "stdout",
          "text": [
            "123 Luxury St 1000000 10\n"
          ]
        }
      ]
    },
    {
      "cell_type": "code",
      "source": [],
      "metadata": {
        "id": "7NEm4iGtsYhm"
      },
      "execution_count": null,
      "outputs": []
    }
  ]
}