{
  "nbformat": 4,
  "nbformat_minor": 0,
  "metadata": {
    "colab": {
      "provenance": []
    },
    "kernelspec": {
      "name": "python3",
      "display_name": "Python 3"
    },
    "language_info": {
      "name": "python"
    }
  },
  "cells": [
    {
      "cell_type": "markdown",
      "source": [
        "**Assignment Question **"
      ],
      "metadata": {
        "id": "z57pdMjYeAr5"
      }
    },
    {
      "cell_type": "markdown",
      "source": [
        "**Data Types and Structures Questions**"
      ],
      "metadata": {
        "id": "iaug4N1Nep51"
      }
    },
    {
      "cell_type": "markdown",
      "source": [
        "Q1. What are data structures, and why are they important?\n",
        "\n",
        "- A data structure is a way to organize, manage, and store data in a computer so that it can be used efficiently.\n",
        "\n",
        "It defines how data is arranged in memory and how operations such as insertion, deletion, searching, and updating can be performed.\n",
        "\n",
        "Common data structures: arrays, lists, stacks, queues, trees, graphs, hash tables.\n",
        "\n",
        "- Importance:\n",
        "\n",
        "1. Efficient storage and access of data.\n",
        "\n",
        "2. Helps in designing optimized algorithms.\n",
        "\n",
        "3. Improves memory management.\n",
        "\n",
        "4. Essential for solving complex problems (e.g., shortest path in graphs, scheduling in OS).\n",
        "\n",
        "- Example:\n",
        "\n",
        "1. A stack is used in undo operations in text editors.\n",
        "\n",
        "2. A queue is used in printers or CPU task scheduling."
      ],
      "metadata": {
        "id": "qQgGkmgwhCFc"
      }
    },
    {
      "cell_type": "markdown",
      "source": [
        "Q2. Explain the difference between mutable and immutable data types with examples.\n",
        "\n",
        "- Mutable data types: Their content (values) can be changed after creation.\n",
        "\n",
        "1. Example:\n",
        "\n",
        "list1 = [1, 2, 3]\n",
        "list1[0] = 10   # List is changed\n",
        "print(list1)   # Output: [10, 2, 3]\n",
        "\n",
        "- Immutable data types: Their content cannot be changed once created. Any modification creates a new object.\n",
        "\n",
        "1. Example:\n",
        "\n",
        "str1 = \"hello\"\n",
        "str1 = str1 + \" world\"\n",
        "print(str1)  # Output: \"hello world\""
      ],
      "metadata": {
        "id": "obw9soutiUFN"
      }
    },
    {
      "cell_type": "markdown",
      "source": [
        "Q3.  What are the main differences between lists and tuples in Python\n",
        "\n",
        "- Main Differences between Lists and Tuples in Python\n",
        "\n",
        "\n",
        "- List: Mutable → elements can be changed, added, or removed after creation.\n",
        "\n",
        "- Tuple: Immutable → elements cannot be modified once created.\n",
        "\n",
        "- Syntax\n",
        "\n",
        "- List: Defined using square brackets → my_list = [1, 2, 3].\n",
        "\n",
        "- Tuple: Defined using parentheses → my_tuple = (1, 2, 3).\n",
        "\n",
        "- Methods\n",
        "\n",
        "- List: Supports many methods like append(), remove(), pop(), extend(), sort().\n",
        "\n",
        "- Tuple: Limited methods, mainly count() and index().\n",
        "\n",
        "- Performance\n",
        "\n",
        "- List: Slightly slower because of mutability (needs more memory and overhead).\n",
        "\n",
        "- Tuple: Faster and more memory-efficient due to immutability.\n",
        "\n",
        "- Use as Dictionary Keys\n",
        "\n",
        "- List: Not hashable → cannot be used as dictionary keys.\n",
        "\n",
        "- Tuple: Hashable (if all elements are immutable) → can be used as dictionary keys.\n",
        "\n",
        "- Use Cases\n",
        "\n",
        "- List: Best for data that changes frequently (e.g., dynamic datasets, user inputs).\n",
        "\n",
        "- Tuple: Best for fixed data (e.g., coordinates, constant values)."
      ],
      "metadata": {
        "id": "ilxgOuj0mgP-"
      }
    },
    {
      "cell_type": "markdown",
      "source": [
        "Q4. Describe how dictionaries store data\n",
        "\n",
        "1. Structure\n",
        "\n",
        "- A dictionary in Python is an unordered collection of key–value pairs.\n",
        "\n",
        "- Each entry maps a key to a value\n",
        "\n",
        "2. Storage Mechanism (Hash Table)\n",
        "\n",
        "- Internally, Python dictionaries use a hash table.\n",
        "\n",
        "- When you insert a key–value pair:\n",
        "\n",
        "- Python computes a hash value of the key using the hash() function.\n",
        "\n",
        "- That hash determines the index (bucket) where the value will be stored.\n",
        "\n",
        "- This allows fast lookups (average time complexity: O(1))\n",
        "\n",
        "3. Key Properties\n",
        "\n",
        "- Keys must be unique: Duplicate keys are not allowed (latest value overwrites).\n",
        "\n",
        "- Keys must be immutable: e.g., strings, numbers, tuples (lists/dicts cannot be keys).\n",
        "\n",
        "- Values can be anything: mutable or immutable, and duplicates are allowed.\n",
        "\n",
        "5. Efficiency\n",
        "\n",
        "- Because of hash tables, dictionaries provide:\n",
        "\n",
        "- Fast insertion\n",
        "\n",
        "- Fast deletion\n",
        "\n",
        "- Fast search"
      ],
      "metadata": {
        "id": "oIGJvSvMHujy"
      }
    },
    {
      "cell_type": "markdown",
      "source": [
        "Q5. Why might you use a set instead of a list in Python?\n",
        "- A set in Python is an unordered collection of unique elements, while a list is an ordered collection that can contain duplicates.\n",
        "\n",
        "- You might use a set instead of a list for the following reasons:\n",
        "\n",
        "1. Uniqueness of Elements\n",
        "\n",
        "- A set automatically removes duplicate values.\n",
        "2. Faster Membership Testing\n",
        "\n",
        "- Checking if an element exists in a set is much faster (O(1)) compared to a list (O(n)), because sets use hash tables internally.\n",
        "3. Efficient Mathematical Operations\n",
        "\n",
        "- Sets support operations like union, intersection, and difference, which are not directly available with lists."
      ],
      "metadata": {
        "id": "5YsSmzeaJpOR"
      }
    },
    {
      "cell_type": "markdown",
      "source": [
        "Q6. What is a string in Python, and how is it different from a list?\n",
        "\n",
        "- A string in Python is a sequence of characters enclosed in single quotes (' '), double quotes (\" \"), or triple quotes (''' ''' / \"\"\" \"\"\").\n",
        "\n",
        "- Strings are immutable, meaning once created, they cannot be modified.\n",
        "\n",
        "-> Differences from a List:\n",
        "\n",
        "1. Mutability: Strings are immutable, lists are mutable.\n",
        "\n",
        "2. Elements: Strings hold only characters, lists can hold elements of any data type.\n",
        "\n",
        "3. Syntax: Strings use quotes (\"Hello\"), lists use square brackets ([1, 2, 3])."
      ],
      "metadata": {
        "id": "JqdWzGjaK9fL"
      }
    },
    {
      "cell_type": "markdown",
      "source": [
        "Q7. How do tuples ensure data integrity in Python?\n",
        "\n",
        "- A tuple in Python is an immutable ordered collection of elements.\n",
        "\n",
        "- Once created, elements in a tuple cannot be changed, added, or deleted.\n",
        "\n",
        "- This immutability ensures data integrity, meaning the stored data remains safe from accidental modifications."
      ],
      "metadata": {
        "id": "7J_jn3wDLU3Y"
      }
    },
    {
      "cell_type": "markdown",
      "source": [
        "Q8. What is a hash table, and how does it relate to dictionaries in Python?\n",
        "\n",
        "- A hash table is a data structure that stores data in key–value pairs using a hashing function to map keys to indexes (buckets).\n",
        "\n",
        "- In Python, a dictionary is implemented using a hash table.\n",
        "\n",
        "--> How it works:\n",
        "\n",
        "1. When a key is inserted, Python computes its hash value.\n",
        "\n",
        "2. This hash determines where the key–value pair is stored in memory.\n",
        "\n",
        "3. This allows fast lookup, insertion, and deletion (average O(1) time)."
      ],
      "metadata": {
        "id": "rj7G7LeYLhdc"
      }
    },
    {
      "cell_type": "markdown",
      "source": [
        "Q9. Can lists contain different data types in Python?\n",
        "\n",
        "- Yes, Python lists are heterogeneous, meaning they can store elements of different data types (integers, strings, floats, objects, etc.) in the same list.\n",
        "\n",
        "EXAMPLE ->\n",
        "-  my_list = [1, \"Hello\", 3.14, True]\n",
        "print(my_list)  # [1, 'Hello', 3.14, True]\n"
      ],
      "metadata": {
        "id": "iRTV9Hh9Lzcg"
      }
    },
    {
      "cell_type": "markdown",
      "source": [
        "Q10. Explain why strings are immutable in Python ?\n",
        "\n",
        "- In Python, strings are immutable, meaning once a string is created, it cannot be changed.\n",
        "\n",
        "- Any operation that seems to modify a string actually creates a new string object instead of changing the original one.\n",
        "\n",
        "-->> Reasons for Immutability:\n",
        "\n",
        "1. Memory Efficiency (String Interning):\n",
        "\n",
        "- Python reuses immutable string objects through a process called string interning.\n",
        "\n",
        "- If strings were mutable, this optimization would not be safe.\n",
        "\n",
        "2. Security:\n",
        "\n",
        "- Since strings are often used as keys in dictionaries and as identifiers, immutability prevents accidental or malicious modification.\n",
        "\n",
        "3. Hashing:\n",
        "\n",
        "- Immutability allows strings to be hashable, so they can be used as dictionary keys and set elements.\n",
        "\n",
        "4. Consistency:\n",
        "\n",
        "- Multiple references can point to the same string safely without worrying that one reference might change the data for all others\n",
        "\n",
        "Example->\n",
        "- s = \"hello\"\n",
        "- s2 = s.upper()\n",
        "- print(s)         \n",
        "- print(s2)     \n"
      ],
      "metadata": {
        "id": "lzoUMAX9Mep3"
      }
    },
    {
      "cell_type": "markdown",
      "source": [
        "Q11. What advantages do dictionaries offer over lists for certain tasks?\n",
        "\n",
        "- Dictionaries allow fast lookups by keys (average O(1) time), while lists require searching through elements (O(n)).\n",
        "\n",
        "- Data can be stored as key–value pairs, making it easier to model real-world mappings (e.g., student ID → student name).\n",
        "\n",
        "- Keys are unique, avoiding duplicates.\n",
        "\n",
        "Example:\n",
        "- students = {101: \"Harsh\", 102: \"Amit\"}\n",
        "print(students[101])  # Fast access\n"
      ],
      "metadata": {
        "id": "rs3aYhiQOPlk"
      }
    },
    {
      "cell_type": "markdown",
      "source": [
        "Q12. Describe a scenario where using a tuple would be preferable over a list\n",
        "\n",
        "- A tuple is preferable over a list when the data should remain constant and unchangeable.\n",
        "\n",
        "- Since tuples are immutable, they protect data from accidental modification, ensuring data integrity.\n",
        "\n",
        "-->> Scenarios:\n",
        "\n",
        "1. Geographic Coordinates:\n",
        "\n",
        "- Latitude and longitude values should not change once defined.\n",
        "\n",
        "Example- >\n",
        "\n",
        "-location = (28.61, 77.20)  # New Delhi coordinates\n",
        "2. Configuration Settings:\n",
        "\n",
        "- Fixed values like screen resolution or database connection parameters.\n",
        "- config = (\"localhost\", 3306, \"root\")\n",
        "3. Dictionary Keys:\n",
        "\n",
        "- Tuples can be used as dictionary keys, whereas lists cannot (because lists are mutable).\n",
        "\n",
        "- student = {(\"Harsh\", 21): \"CS Student\"}\n",
        "\n",
        "\n"
      ],
      "metadata": {
        "id": "XYB3-IDEOlYp"
      }
    },
    {
      "cell_type": "markdown",
      "source": [
        "Q13. How do sets handle duplicate values in Python?\n",
        "\n",
        "\n",
        "- Sets automatically eliminate duplicate values.\n",
        "\n",
        "- When duplicates are inserted, only one copy is kept.\n",
        "\n",
        "✅ Example:\n",
        "\n",
        "- numbers = {1, 2, 2, 3}\n",
        "- print(numbers)  # {1, 2, 3}"
      ],
      "metadata": {
        "id": "62a_K7NzSBGj"
      }
    },
    {
      "cell_type": "markdown",
      "source": [
        "Q14. How does the “in” keyword work differently for lists and dictionaries?\n",
        "\n",
        "- In lists: Checks if a value exists among the elements.\n",
        "\n",
        "- In dictionaries: Checks if a key exists (not the value).\n",
        "\n",
        "✅ Example:\n",
        "\n",
        "- lst = [1, 2, 3]\n",
        "- print(2 in lst)  # True\n",
        "\n",
        "- dct = {\"id\": 1, \"name\": \"Harsh\"}\n",
        "- print(\"id\" in dct)     # True (checks keys)\n",
        "- print(\"Harsh\" in dct)  # False (values not checked)"
      ],
      "metadata": {
        "id": "I7Ikoa4CSPaE"
      }
    },
    {
      "cell_type": "markdown",
      "source": [
        "Q15. Can you modify the elements of a tuple? Explain why or why not.\n",
        "\n",
        "- No, elements of a tuple cannot be modified.\n",
        "\n",
        "- Tuples are immutable, meaning once created, their contents cannot change.\n",
        "\n",
        "- This ensures data integrity and makes tuples hashable.\n",
        "\n",
        "✅ Example:\n",
        "\n",
        "t = (1, 2, 3)\n",
        "# t[0] = 10  # ❌ Error"
      ],
      "metadata": {
        "id": "g7lBR988SwBJ"
      }
    },
    {
      "cell_type": "markdown",
      "source": [
        "Q16. What is a nested dictionary, and give an example of its use case.\n",
        "\n",
        "- A nested dictionary is a dictionary containing another dictionary as its value.\n",
        "\n",
        "- Useful for representing hierarchical data.\n",
        "\n",
        "✅ Example:\n",
        "\n",
        "students = {\n",
        "  101: {\"name\": \"Harsh\", \"age\": 21},\n",
        "  102: {\"name\": \"Amit\", \"age\": 22}\n",
        "}\n",
        "print(students[101][\"name\"])  # Harsh"
      ],
      "metadata": {
        "id": "8Dyyhhj8S7Da"
      }
    },
    {
      "cell_type": "markdown",
      "source": [
        "Q17. Describe the time complexity of accessing elements in a dictionary.\n",
        "\n",
        "- Accessing elements in a dictionary is on average O(1) (constant time) due to hash table implementation.\n",
        "\n",
        "- In worst-case scenarios (hash collisions), it can degrade to O(n), but this is rare."
      ],
      "metadata": {
        "id": "I0wTX118V92e"
      }
    },
    {
      "cell_type": "markdown",
      "source": [
        "Q18. In what situations are lists preferred over dictionaries?\n",
        "\n",
        "- Lists are preferred when:\n",
        "\n",
        "- The data is ordered and sequential.\n",
        "\n",
        "- Duplicate values are allowed.\n",
        "\n",
        "- Index-based access is needed.\n",
        "\n",
        "- The dataset is small and simple.\n",
        "\n",
        "✅ Example:\n",
        "\n",
        "fruits = [\"apple\", \"banana\", \"mango\"]\n",
        "print(fruits[1])  # Access by index"
      ],
      "metadata": {
        "id": "jnQf8XpLWJgA"
      }
    },
    {
      "cell_type": "markdown",
      "source": [
        "Q19. Why are dictionaries considered unordered, and how does that affect data retrieval?\n",
        "\n",
        "- A dictionary in Python is considered unordered because it stores data in key–value pairs using a hash table, not by position or index.\n",
        "\n",
        "- The order of elements is not based on insertion (before Python 3.7 it was unpredictable; since Python 3.7+ it preserves insertion order but is still conceptually unordered).\n",
        "\n",
        "- Effect on retrieval:\n",
        "\n",
        "- You cannot access values by index (like in a list).\n",
        "\n",
        "- Retrieval is done by key, not by position.\n",
        "\n",
        "✅ Example:\n",
        "\n",
        "student = {\"id\": 1, \"name\": \"Harsh\"}\n",
        "print(student[\"name\"])  # Access by key, not index"
      ],
      "metadata": {
        "id": "OLLH_NCwYuhN"
      }
    },
    {
      "cell_type": "markdown",
      "source": [
        "Q20. Explain the difference between a list and a dictionary in terms of data retrieval.\n",
        "\n",
        "->  List:\n",
        "\n",
        "- Ordered collection.\n",
        "\n",
        "-Retrieval is done using index positions (starting from 0).\n",
        "\n",
        "- Example:\n",
        "\n",
        "- fruits = [\"apple\", \"banana\", \"mango\"]\n",
        "print(fruits[1])  # banana\n",
        "\n",
        "\n",
        "--> Dictionary:\n",
        "\n",
        "- Unordered collection of key–value pairs.\n",
        "\n",
        "- Retrieval is done using keys, not positions.\n",
        "\n",
        "- Example:\n",
        "\n",
        "student = {\"id\": 1, \"name\": \"Harsh\"}\n",
        "print(student[\"name\"])  # Harsh"
      ],
      "metadata": {
        "id": "qyEA96FLZFQb"
      }
    },
    {
      "cell_type": "markdown",
      "source": [
        "**Practical Questions** --->>"
      ],
      "metadata": {
        "id": "h1JvfeF6ZjD3"
      }
    },
    {
      "cell_type": "markdown",
      "source": [
        "Q1. Write a code to create a string with your name and print it"
      ],
      "metadata": {
        "id": "41ZGLj1La5E5"
      }
    },
    {
      "cell_type": "code",
      "source": [
        "name = \"Harsh Tripathi\"\n",
        "print(name)\n"
      ],
      "metadata": {
        "colab": {
          "base_uri": "https://localhost:8080/"
        },
        "id": "iT-jwxfQa5-2",
        "outputId": "693caed6-8f5c-4d2e-81e8-864358375770"
      },
      "execution_count": 1,
      "outputs": [
        {
          "output_type": "stream",
          "name": "stdout",
          "text": [
            "Harsh Tripathi\n"
          ]
        }
      ]
    },
    {
      "cell_type": "markdown",
      "source": [
        "Q2. Write a code to find the length of the string \"Hello World\""
      ],
      "metadata": {
        "id": "KsRhyjtUa_V5"
      }
    },
    {
      "cell_type": "code",
      "source": [
        "text = \"Hello World\"\n",
        "print(len(text))\n"
      ],
      "metadata": {
        "colab": {
          "base_uri": "https://localhost:8080/"
        },
        "id": "4AFCcKGTa_9s",
        "outputId": "590c1819-7b0a-445b-b13d-01f1e33068da"
      },
      "execution_count": 2,
      "outputs": [
        {
          "output_type": "stream",
          "name": "stdout",
          "text": [
            "11\n"
          ]
        }
      ]
    },
    {
      "cell_type": "markdown",
      "source": [
        "Q3. Write a code to slice the first 3 characters from the string \"Python Programming\""
      ],
      "metadata": {
        "id": "HK012nFMbG_z"
      }
    },
    {
      "cell_type": "code",
      "source": [
        "text = \"Python Programming\"\n",
        "print(text[:3])\n"
      ],
      "metadata": {
        "colab": {
          "base_uri": "https://localhost:8080/"
        },
        "id": "H8_jN2gXbHid",
        "outputId": "951f7620-f4df-4a25-97c7-48b613e59b9c"
      },
      "execution_count": 43,
      "outputs": [
        {
          "output_type": "stream",
          "name": "stdout",
          "text": [
            "Pyt\n"
          ]
        }
      ]
    },
    {
      "cell_type": "markdown",
      "source": [
        "Q4. Write a code to convert the string \"hello\" to uppercase"
      ],
      "metadata": {
        "id": "CLj5_19qbMfC"
      }
    },
    {
      "cell_type": "code",
      "source": [
        "text = \"hello\"\n",
        "print(text.upper())\n"
      ],
      "metadata": {
        "colab": {
          "base_uri": "https://localhost:8080/"
        },
        "id": "g4kTr8iEbNPt",
        "outputId": "a9e54eef-3419-4ed6-b256-5c7a03c13e0c"
      },
      "execution_count": 44,
      "outputs": [
        {
          "output_type": "stream",
          "name": "stdout",
          "text": [
            "HELLO\n"
          ]
        }
      ]
    },
    {
      "cell_type": "markdown",
      "source": [
        "Q5. Write a code to replace the word \"apple\" with \"orange\" in the string \"I like apple\""
      ],
      "metadata": {
        "id": "rRVH9NIwbTGI"
      }
    },
    {
      "cell_type": "code",
      "source": [
        "text = \"I like apple\"\n",
        "print(text.replace(\"apple\", \"orange\"))\n"
      ],
      "metadata": {
        "colab": {
          "base_uri": "https://localhost:8080/"
        },
        "id": "t9ZqxMT8bTpN",
        "outputId": "e0289c0d-696d-4008-bc77-e3f44b0f97df"
      },
      "execution_count": 5,
      "outputs": [
        {
          "output_type": "stream",
          "name": "stdout",
          "text": [
            "I like orange\n"
          ]
        }
      ]
    },
    {
      "cell_type": "markdown",
      "source": [
        "Q6. Write a code to create a list with numbers 1 to 5 and print it"
      ],
      "metadata": {
        "id": "rJkyXL8ebX2M"
      }
    },
    {
      "cell_type": "code",
      "source": [
        "numbers = [1, 2, 3, 4, 5]\n",
        "print(numbers)\n"
      ],
      "metadata": {
        "colab": {
          "base_uri": "https://localhost:8080/"
        },
        "id": "2g9X-HWZbYYO",
        "outputId": "ffebda8e-76e8-4860-f06c-396924b624fd"
      },
      "execution_count": 6,
      "outputs": [
        {
          "output_type": "stream",
          "name": "stdout",
          "text": [
            "[1, 2, 3, 4, 5]\n"
          ]
        }
      ]
    },
    {
      "cell_type": "markdown",
      "source": [
        "Q7. Write a code to append the number 10 to the list [1, 2, 3, 4]"
      ],
      "metadata": {
        "id": "ybZFzrX5bdr1"
      }
    },
    {
      "cell_type": "code",
      "source": [
        "numbers = [1, 2, 3, 4]\n",
        "numbers.append(10)\n",
        "print(numbers)\n"
      ],
      "metadata": {
        "colab": {
          "base_uri": "https://localhost:8080/"
        },
        "id": "PMJq71cabed5",
        "outputId": "3bbdd6b1-3f2a-47c8-a96e-20996e8049f4"
      },
      "execution_count": 7,
      "outputs": [
        {
          "output_type": "stream",
          "name": "stdout",
          "text": [
            "[1, 2, 3, 4, 10]\n"
          ]
        }
      ]
    },
    {
      "cell_type": "markdown",
      "source": [
        "Q8. Write a code to remove the number 3 from the list [1, 2, 3, 4, 5]"
      ],
      "metadata": {
        "id": "SKcRm2Iqbi5f"
      }
    },
    {
      "cell_type": "code",
      "source": [
        "numbers = [1, 2, 3, 4, 5]\n",
        "numbers.remove(3)\n",
        "print(numbers)\n"
      ],
      "metadata": {
        "colab": {
          "base_uri": "https://localhost:8080/"
        },
        "id": "n5cOooxSbjbX",
        "outputId": "d054f22d-9dd7-46a1-9b5d-a01ad6f8289a"
      },
      "execution_count": 8,
      "outputs": [
        {
          "output_type": "stream",
          "name": "stdout",
          "text": [
            "[1, 2, 4, 5]\n"
          ]
        }
      ]
    },
    {
      "cell_type": "markdown",
      "source": [
        "Q9. Write a code to access the second element in the list ['a', 'b', 'c', 'd']"
      ],
      "metadata": {
        "id": "3GAjz49jboEY"
      }
    },
    {
      "cell_type": "code",
      "source": [
        "letters = ['a', 'b', 'c', 'd']\n",
        "print(letters[1])\n"
      ],
      "metadata": {
        "colab": {
          "base_uri": "https://localhost:8080/"
        },
        "id": "JcwJRrotbola",
        "outputId": "e2ecec7f-0bf9-4f6a-bca6-b98fb19de22d"
      },
      "execution_count": 42,
      "outputs": [
        {
          "output_type": "stream",
          "name": "stdout",
          "text": [
            "b\n"
          ]
        }
      ]
    },
    {
      "cell_type": "markdown",
      "source": [
        "Q10. Write a code to reverse the list [10, 20, 30, 40, 50]"
      ],
      "metadata": {
        "id": "Nn3NumpTbtM9"
      }
    },
    {
      "cell_type": "code",
      "source": [
        "numbers = [10, 20, 30, 40, 50]\n",
        "numbers.reverse()\n",
        "print(numbers)\n"
      ],
      "metadata": {
        "colab": {
          "base_uri": "https://localhost:8080/"
        },
        "id": "QnRhNSj6bujY",
        "outputId": "26174358-4306-4655-a86f-b3c6dcff4c62"
      },
      "execution_count": 11,
      "outputs": [
        {
          "output_type": "stream",
          "name": "stdout",
          "text": [
            "[50, 40, 30, 20, 10]\n"
          ]
        }
      ]
    },
    {
      "cell_type": "markdown",
      "source": [
        "Q11. Create a tuple with the elements 100, 200, 300 and print it"
      ],
      "metadata": {
        "id": "NLx-mVEWcMXs"
      }
    },
    {
      "cell_type": "code",
      "source": [
        "numbers = (100, 200, 300)\n",
        "print(numbers)\n"
      ],
      "metadata": {
        "colab": {
          "base_uri": "https://localhost:8080/"
        },
        "id": "yEIr9JODcM5Z",
        "outputId": "b14fc9f1-7fd7-4133-9827-3fa06d21d69e"
      },
      "execution_count": 12,
      "outputs": [
        {
          "output_type": "stream",
          "name": "stdout",
          "text": [
            "(100, 200, 300)\n"
          ]
        }
      ]
    },
    {
      "cell_type": "markdown",
      "source": [
        "Q12. Access the second-to-last element of the tuple ('red', 'green', 'blue', 'yellow')"
      ],
      "metadata": {
        "id": "C-IPX_nScqHc"
      }
    },
    {
      "cell_type": "code",
      "source": [
        "colors = ('red', 'green', 'blue', 'yellow')\n",
        "print(colors[-2])\n"
      ],
      "metadata": {
        "colab": {
          "base_uri": "https://localhost:8080/"
        },
        "id": "lvw59bWJctnv",
        "outputId": "eacfd6a9-8bd2-4a89-d501-bff0e77fea8d"
      },
      "execution_count": 41,
      "outputs": [
        {
          "output_type": "stream",
          "name": "stdout",
          "text": [
            "blue\n"
          ]
        }
      ]
    },
    {
      "cell_type": "markdown",
      "source": [
        "Q13. Find the minimum number in the tuple (10, 20, 5, 15)"
      ],
      "metadata": {
        "id": "313G-j5bcyke"
      }
    },
    {
      "cell_type": "code",
      "source": [
        "nums = (10, 20, 5, 15)\n",
        "print(min(nums))\n"
      ],
      "metadata": {
        "colab": {
          "base_uri": "https://localhost:8080/"
        },
        "id": "7i8eaYD3czGs",
        "outputId": "eff7ac6b-882b-400d-a92e-3c8b4b630166"
      },
      "execution_count": 40,
      "outputs": [
        {
          "output_type": "stream",
          "name": "stdout",
          "text": [
            "5\n"
          ]
        }
      ]
    },
    {
      "cell_type": "markdown",
      "source": [
        "Q14. Find the index of the element \"cat\" in the tuple ('dog', 'cat', 'rabbit')"
      ],
      "metadata": {
        "id": "rF-wIa6Xc4Fa"
      }
    },
    {
      "cell_type": "code",
      "source": [
        "animals = ('dog', 'cat', 'rabbit')\n",
        "print(animals.index(\"cat\"))\n"
      ],
      "metadata": {
        "colab": {
          "base_uri": "https://localhost:8080/"
        },
        "id": "b6Wq9ycqc4u8",
        "outputId": "b3198360-86e1-4c57-b0b7-8052a9cd48d2"
      },
      "execution_count": 39,
      "outputs": [
        {
          "output_type": "stream",
          "name": "stdout",
          "text": [
            "1\n"
          ]
        }
      ]
    },
    {
      "cell_type": "markdown",
      "source": [
        "Q15. Create a tuple containing three fruits and check if \"kiwi\" is in it"
      ],
      "metadata": {
        "id": "z0QcEN2Ac9gP"
      }
    },
    {
      "cell_type": "code",
      "source": [
        "fruits = ('apple', 'banana', 'mango')\n",
        "print(\"kiwi\" in fruits)\n"
      ],
      "metadata": {
        "colab": {
          "base_uri": "https://localhost:8080/"
        },
        "id": "HCr23vXJc99r",
        "outputId": "616163fc-a3cd-46cf-db7d-344fbadef448"
      },
      "execution_count": 38,
      "outputs": [
        {
          "output_type": "stream",
          "name": "stdout",
          "text": [
            "False\n"
          ]
        }
      ]
    },
    {
      "cell_type": "markdown",
      "source": [
        "Q16. Create a set with the elements 'a', 'b', 'c' and print it"
      ],
      "metadata": {
        "id": "36qJvusXdB__"
      }
    },
    {
      "cell_type": "code",
      "source": [
        "letters = {'a', 'b', 'c'}\n",
        "print(letters)\n"
      ],
      "metadata": {
        "colab": {
          "base_uri": "https://localhost:8080/"
        },
        "id": "1sivAdEvdCfy",
        "outputId": "a1711253-ac00-48bc-9961-16b0abba1eca"
      },
      "execution_count": 17,
      "outputs": [
        {
          "output_type": "stream",
          "name": "stdout",
          "text": [
            "{'b', 'a', 'c'}\n"
          ]
        }
      ]
    },
    {
      "cell_type": "markdown",
      "source": [
        "Q17. Clear all elements from the set {1, 2, 3, 4, 5}"
      ],
      "metadata": {
        "id": "_L3j3G0IdISa"
      }
    },
    {
      "cell_type": "code",
      "source": [
        "nums = {1, 2, 3, 4, 5}\n",
        "nums.clear()\n",
        "print(nums)\n"
      ],
      "metadata": {
        "colab": {
          "base_uri": "https://localhost:8080/"
        },
        "id": "10NSqL3qdJHd",
        "outputId": "ce0a949a-6611-463f-d07d-e502090fa5a2"
      },
      "execution_count": 37,
      "outputs": [
        {
          "output_type": "stream",
          "name": "stdout",
          "text": [
            "set()\n"
          ]
        }
      ]
    },
    {
      "cell_type": "markdown",
      "source": [
        "Q18. Remove the element 4 from the set {1, 2, 3, 4}"
      ],
      "metadata": {
        "id": "CDsBuNVadNlI"
      }
    },
    {
      "cell_type": "code",
      "source": [
        "nums = {1, 2, 3, 4}\n",
        "nums.remove(4)\n",
        "print(nums)\n"
      ],
      "metadata": {
        "colab": {
          "base_uri": "https://localhost:8080/"
        },
        "id": "PP9e3ykedOOI",
        "outputId": "da055b83-ad52-47e3-8404-5110ae905c2d"
      },
      "execution_count": 36,
      "outputs": [
        {
          "output_type": "stream",
          "name": "stdout",
          "text": [
            "{1, 2, 3}\n"
          ]
        }
      ]
    },
    {
      "cell_type": "markdown",
      "source": [
        "Q19. Find the union of two sets {1, 2, 3} and {3, 4, 5}"
      ],
      "metadata": {
        "id": "EUmOi3p4duRR"
      }
    },
    {
      "cell_type": "code",
      "source": [
        "a = {1, 2, 3}\n",
        "b = {3, 4, 5}\n",
        "print(a.union(b))\n"
      ],
      "metadata": {
        "colab": {
          "base_uri": "https://localhost:8080/"
        },
        "id": "ZTsujIQfdvcE",
        "outputId": "fbd9a7f8-314a-48f1-a5ea-ca4baf3266cb"
      },
      "execution_count": 35,
      "outputs": [
        {
          "output_type": "stream",
          "name": "stdout",
          "text": [
            "{1, 2, 3, 4, 5}\n"
          ]
        }
      ]
    },
    {
      "cell_type": "markdown",
      "source": [
        "Q20. Find the intersection of two sets {1, 2, 3} and {2, 3, 4}"
      ],
      "metadata": {
        "id": "84qJ_cxed4EW"
      }
    },
    {
      "cell_type": "code",
      "source": [
        "a = {1, 2, 3}\n",
        "b = {2, 3, 4}\n",
        "print(a.intersection(b))\n"
      ],
      "metadata": {
        "colab": {
          "base_uri": "https://localhost:8080/"
        },
        "id": "Y9I5RaHFd_Bp",
        "outputId": "8a053716-1ab8-4547-e9e5-d6a60d9b854c"
      },
      "execution_count": 34,
      "outputs": [
        {
          "output_type": "stream",
          "name": "stdout",
          "text": [
            "{2, 3}\n"
          ]
        }
      ]
    },
    {
      "cell_type": "markdown",
      "source": [
        "Q21. Create a dictionary with the keys \"name\", \"age\", and \"city\", and print it"
      ],
      "metadata": {
        "id": "E5FVkf2SeTzi"
      }
    },
    {
      "cell_type": "code",
      "source": [
        "person = {\"name\": \"John\", \"age\": 25, \"city\": \"New York\"}\n",
        "print(person)\n"
      ],
      "metadata": {
        "colab": {
          "base_uri": "https://localhost:8080/"
        },
        "id": "uCOTzN46eUh3",
        "outputId": "e0aec273-7caf-4ced-934f-e44d53d78782"
      },
      "execution_count": 22,
      "outputs": [
        {
          "output_type": "stream",
          "name": "stdout",
          "text": [
            "{'name': 'John', 'age': 25, 'city': 'New York'}\n"
          ]
        }
      ]
    },
    {
      "cell_type": "markdown",
      "source": [
        "Q22. Add a new key-value pair \"country\": \"USA\" to the dictionary"
      ],
      "metadata": {
        "id": "VFO4Z0PLei-Q"
      }
    },
    {
      "cell_type": "code",
      "source": [
        "person = {'name': 'John', 'age': 25}\n",
        "person[\"country\"] = \"USA\"\n",
        "print(person)\n"
      ],
      "metadata": {
        "colab": {
          "base_uri": "https://localhost:8080/"
        },
        "id": "z9UFYd65ejhm",
        "outputId": "9e0be2ce-801f-4d32-a1fa-b03ba18ca49c"
      },
      "execution_count": 23,
      "outputs": [
        {
          "output_type": "stream",
          "name": "stdout",
          "text": [
            "{'name': 'John', 'age': 25, 'country': 'USA'}\n"
          ]
        }
      ]
    },
    {
      "cell_type": "markdown",
      "source": [
        "Q23. Access the value associated with the key \"name\""
      ],
      "metadata": {
        "id": "7g-o92lRen3x"
      }
    },
    {
      "cell_type": "code",
      "source": [
        "person = {'name': 'Alice', 'age': 30}\n",
        "print(person[\"name\"])\n"
      ],
      "metadata": {
        "colab": {
          "base_uri": "https://localhost:8080/"
        },
        "id": "ihY_LzWpeoeP",
        "outputId": "e1bf1b95-1585-4ff2-ba83-c34957d7118c"
      },
      "execution_count": 33,
      "outputs": [
        {
          "output_type": "stream",
          "name": "stdout",
          "text": [
            "Alice\n"
          ]
        }
      ]
    },
    {
      "cell_type": "markdown",
      "source": [
        "Q24. Remove the key \"age\" from the dictionary"
      ],
      "metadata": {
        "id": "6SOa66yKerRH"
      }
    },
    {
      "cell_type": "code",
      "source": [
        "person = {'name': 'Bob', 'age': 22, 'city': 'New York'}\n",
        "del person[\"age\"]\n",
        "print(person)\n"
      ],
      "metadata": {
        "colab": {
          "base_uri": "https://localhost:8080/"
        },
        "id": "ScVwydjeetM-",
        "outputId": "2e90a76b-e5e5-4de1-828d-f891b36d4988"
      },
      "execution_count": 25,
      "outputs": [
        {
          "output_type": "stream",
          "name": "stdout",
          "text": [
            "{'name': 'Bob', 'city': 'New York'}\n"
          ]
        }
      ]
    },
    {
      "cell_type": "markdown",
      "source": [
        "Q25. Check if the key \"city\" exists in the dictionary"
      ],
      "metadata": {
        "id": "JNX5QpJkexo-"
      }
    },
    {
      "cell_type": "code",
      "source": [
        "person = {'name': 'Alice', 'city': 'Paris'}\n",
        "print(\"city\" in person)\n"
      ],
      "metadata": {
        "colab": {
          "base_uri": "https://localhost:8080/"
        },
        "id": "WPGqiYKYeyL1",
        "outputId": "060fc7f9-e709-413d-c0af-6404770ac876"
      },
      "execution_count": 32,
      "outputs": [
        {
          "output_type": "stream",
          "name": "stdout",
          "text": [
            "True\n"
          ]
        }
      ]
    },
    {
      "cell_type": "markdown",
      "source": [
        "Q26. Create a list, a tuple, and a dictionary, and print them all"
      ],
      "metadata": {
        "id": "ksd_KqRTe2uR"
      }
    },
    {
      "cell_type": "code",
      "source": [
        "my_list = [1, 2, 3]\n",
        "my_tuple = (10, 20, 30)\n",
        "my_dict = {\"a\": 1, \"b\": 2}\n",
        "print(my_list, my_tuple, my_dict)\n"
      ],
      "metadata": {
        "colab": {
          "base_uri": "https://localhost:8080/"
        },
        "id": "2ht1Zc1Pe3RI",
        "outputId": "81c49f94-2ccd-4a30-a0af-8fedcbbf2cde"
      },
      "execution_count": 27,
      "outputs": [
        {
          "output_type": "stream",
          "name": "stdout",
          "text": [
            "[1, 2, 3] (10, 20, 30) {'a': 1, 'b': 2}\n"
          ]
        }
      ]
    },
    {
      "cell_type": "markdown",
      "source": [
        "Q27. Create a list of 5 random numbers between 1 and 100, sort it in ascending order, and print the result"
      ],
      "metadata": {
        "id": "r-YTfZXXe6Ju"
      }
    },
    {
      "cell_type": "code",
      "source": [
        "import random\n",
        "nums = random.sample(range(1, 101), 5)\n",
        "nums.sort()\n",
        "print(nums)\n"
      ],
      "metadata": {
        "colab": {
          "base_uri": "https://localhost:8080/"
        },
        "id": "H84onD7ye9gt",
        "outputId": "2dca0d1c-aaef-4ea0-97aa-4c0d84720006"
      },
      "execution_count": 28,
      "outputs": [
        {
          "output_type": "stream",
          "name": "stdout",
          "text": [
            "[10, 13, 44, 45, 93]\n"
          ]
        }
      ]
    },
    {
      "cell_type": "markdown",
      "source": [
        "Q28. Create a list with strings and print the element at the third index"
      ],
      "metadata": {
        "id": "J0wlY_V0fBpt"
      }
    },
    {
      "cell_type": "code",
      "source": [
        "words = [\"apple\", \"banana\", \"cherry\", \"date\", \"fig\"]\n",
        "print(words[3])\n"
      ],
      "metadata": {
        "colab": {
          "base_uri": "https://localhost:8080/"
        },
        "id": "PWx0UVq7fCIS",
        "outputId": "e2019f4f-9cb2-4980-928a-63b135180f05"
      },
      "execution_count": 45,
      "outputs": [
        {
          "output_type": "stream",
          "name": "stdout",
          "text": [
            "date\n"
          ]
        }
      ]
    },
    {
      "cell_type": "markdown",
      "source": [
        "Q29. Combine two dictionaries into one and print the result"
      ],
      "metadata": {
        "id": "QVFMTAM7fR_4"
      }
    },
    {
      "cell_type": "code",
      "source": [
        "dict1 = {\"a\": 1, \"b\": 2}\n",
        "dict2 = {\"c\": 3, \"d\": 4}\n",
        "combined = {**dict1, **dict2}\n",
        "print(combined)\n"
      ],
      "metadata": {
        "colab": {
          "base_uri": "https://localhost:8080/"
        },
        "id": "X7Ijn8E9fSfi",
        "outputId": "814956e6-bfd4-45af-95ba-3db9731af721"
      },
      "execution_count": 30,
      "outputs": [
        {
          "output_type": "stream",
          "name": "stdout",
          "text": [
            "{'a': 1, 'b': 2, 'c': 3, 'd': 4}\n"
          ]
        }
      ]
    },
    {
      "cell_type": "markdown",
      "source": [
        "Q30. Convert a list of strings into a set"
      ],
      "metadata": {
        "id": "KtAET_5OfWyV"
      }
    },
    {
      "cell_type": "code",
      "source": [
        "words = [\"apple\", \"banana\", \"cherry\", \"apple\"]\n",
        "unique_words = set(words)\n",
        "print(unique_words)\n"
      ],
      "metadata": {
        "colab": {
          "base_uri": "https://localhost:8080/"
        },
        "id": "r0LmdYsmfXbx",
        "outputId": "f75f2d9b-32bb-4c5d-8ff5-c05f176a75f1"
      },
      "execution_count": 31,
      "outputs": [
        {
          "output_type": "stream",
          "name": "stdout",
          "text": [
            "{'cherry', 'apple', 'banana'}\n"
          ]
        }
      ]
    },
    {
      "cell_type": "code",
      "source": [],
      "metadata": {
        "id": "McIIob1efZo1"
      },
      "execution_count": null,
      "outputs": []
    }
  ]
}