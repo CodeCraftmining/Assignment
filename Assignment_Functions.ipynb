{
  "nbformat": 4,
  "nbformat_minor": 0,
  "metadata": {
    "colab": {
      "provenance": []
    },
    "kernelspec": {
      "name": "python3",
      "display_name": "Python 3"
    },
    "language_info": {
      "name": "python"
    }
  },
  "cells": [
    {
      "cell_type": "markdown",
      "source": [
        "**Assignment**"
      ],
      "metadata": {
        "id": "hPDElUtXyGpS"
      }
    },
    {
      "cell_type": "markdown",
      "source": [
        "**Functions**-->>"
      ],
      "metadata": {
        "id": "vb3ZA5HDyQ-_"
      }
    },
    {
      "cell_type": "markdown",
      "source": [
        "Theory Questions:"
      ],
      "metadata": {
        "id": "DlCoi0KnyZU0"
      }
    },
    {
      "cell_type": "markdown",
      "source": [
        "Q1. What is the difference between a function and a method in Python?\n",
        "\n",
        "- A block of reusable code defined using def or lambda. It is independent and not tied to any object.\n",
        "\n",
        "- Example:-\n",
        "- def add(a, b):\n",
        "    return a + b\n",
        "print(add(2, 3))  # function call\n",
        "\n",
        "\n",
        "- Method:\n",
        "- A function that is defined inside a class and is associated with objects (instances) of that class.\n",
        "- Example:\n",
        "\n",
        "- class Math:\n",
        "    def add(self, a, b):\n",
        "        return a + b\n",
        "m = Math()\n",
        "print(m.add(2, 3))\n",
        "\n"
      ],
      "metadata": {
        "id": "3c91beVvygM1"
      }
    },
    {
      "cell_type": "markdown",
      "source": [
        "Q2. Explain the concept of function arguments and parameters in Python\n",
        "\n",
        "- Parameters are placeholders (variables) defined inside the function definition.\n",
        "\n",
        "- They specify what kind of data the function expects.\n",
        "\n",
        "- They act like input names for the function.\n",
        "\n",
        "- Example:\n",
        "- def greet(name):   # 'name' is a parameter\n",
        "\n",
        "    print(\"Hello,\", name)\n",
        "🔹 Arguments\n",
        "\n",
        "- Arguments are the actual values passed to the function when it is called.\n",
        "\n",
        "- They get assigned to the parameters during the function call.\n",
        "\n",
        "- Example:-\n",
        "\n",
        "- greet(\"Harsh\")   # \"Harsh\" is the argument\n",
        "\n"
      ],
      "metadata": {
        "id": "PcJhvqOjz41z"
      }
    },
    {
      "cell_type": "markdown",
      "source": [
        "Q3. What are the different ways to define and call a function in Python?\n",
        "\n",
        "- Answer-> 1. Standard Function Definition (def)\n",
        "\n",
        "- Define: using the def keyword.\n",
        "\n",
        "- Call: by using the function name with parentheses.\n",
        "\n",
        "- Example->\n",
        "def greet(name):\n",
        "    print(\"Hello,\", name)\n",
        "\n",
        "greet(\"Harsh\")   \n",
        "\n",
        "2. Function with Default Parameters\n",
        "\n",
        "- Allows defining parameters with default values.\n",
        "\n",
        "- If no argument is passed, the default is used.\n",
        "\n",
        "- Example:\n",
        "- def greet(name=\"Guest\"):\n",
        "    print(\"Hello,\", name)\n",
        "\n",
        "greet()       \n",
        "greet(\"Harsh\")\n",
        "\n",
        "3. Function with Variable-Length Arguments\n",
        "\n",
        "- Using *args (positional) and **kwargs (keyword).\n",
        "\n",
        "- Example:\n",
        "- def show(*args, **kwargs):\n",
        "    print(\"args:\", args)\n",
        "    print(\"kwargs:\", kwargs)\n",
        "\n",
        "show(1, 2, 3, name=\"Harsh\", age=20)\n",
        "\n",
        "4. Lambda (Anonymous Function)\n",
        "\n",
        "- Defined in a single line using the lambda keyword.\n",
        "\n",
        "- Example:\n",
        "- square = lambda x: x * x\n",
        "print(square(5))         \n",
        "\n",
        "5. Recursive Function\n",
        "\n",
        "A function that calls itself.\n",
        "\n",
        "- Example:\n",
        "\n",
        "- def factorial(n):\n",
        "    if n == 0:\n",
        "        return 1\n",
        "    return n * factorial(n-1)\n",
        "\n",
        "print(factorial(5))\n",
        "\n",
        "6. Built-in Function Calls\n",
        "\n",
        "- Python provides many built-in functions like len(), print(), type().\n",
        "\n",
        "- These are called the same way as user-defined functions.\n",
        "\n",
        "- Example:\n",
        "\n",
        "print(len(\"Harsh\"))   # 5"
      ],
      "metadata": {
        "id": "0CkdD7hu1QSR"
      }
    },
    {
      "cell_type": "markdown",
      "source": [
        "Q4. What is the purpose of the `return` statement in a Python function?\n",
        "\n",
        "- Purpose of return:\n",
        "\n",
        "1. End function execution:\n",
        "- Once Python encounters a return statement, the function stops executing further code and control goes back to the caller.\n",
        "\n",
        "2. Provide output from a function:\n",
        "- Functions often perform some computation or process, and the return statement allows them to pass the result back.\n",
        "\n",
        "3. Support reusable code:\n",
        "- By returning values, functions can be reused in different contexts instead of just printing results.\n",
        "\n",
        "- Syntax:\n",
        "def function_name(parameters):\n",
        "    \n",
        "    return value\n",
        "\n",
        "- Example 1: Returning a single value\n",
        "\n",
        "- def add(a, b):\n",
        "    return a + b\n",
        "\n",
        "result = add(5, 3)\n",
        "print(result)  "
      ],
      "metadata": {
        "id": "aMmgCdcy5Kek"
      }
    },
    {
      "cell_type": "markdown",
      "source": [
        "5. What are iterators in Python and how do they differ from iterables?\n",
        "\n",
        "- Iterable:\n",
        "\n",
        "An iterable is any Python object that can return an iterator using the built-in iter() function.\n",
        "\n",
        "Examples: lists, tuples, strings, sets, dictionaries, ranges, etc.\n",
        "\n",
        "They can be looped over using for loops.\n",
        "\n",
        "👉 Example:\n",
        "\n",
        "- numbers = [1, 2, 3]   # list is an iterable\n",
        "\n",
        "for num in numbers:\n",
        "    print(num)\n",
        "\n",
        "2. Iterator:\n",
        "\n",
        "- An iterator is an object that produces elements one at a time using the built-in functions:\n",
        "\n",
        "- iter() → creates an iterator from an iterable\n",
        "\n",
        "- next() → returns the next element from the iterator\n",
        "\n",
        "- An iterator remembers its state, so once it’s exhausted, you cannot reuse it unless recreated.\n",
        "\n",
        "👉 Example:\n",
        "\n",
        "- numbers = [1, 2, 3]\n",
        "iterator = iter(numbers)  \n",
        "\n",
        "print(next(iterator))   \n",
        "print(next(iterator))   \n",
        "print(next(iterator))"
      ],
      "metadata": {
        "id": "3pV3cNCI6dVY"
      }
    },
    {
      "cell_type": "markdown",
      "source": [
        "Q6. Explain the concept of generators in Python and how they are defined.\n",
        "\n",
        "- In Python, generators are a special type of iterable that allow you to generate a sequence of values lazily — meaning they produce items one at a time and only when requested, rather than storing them all in memory at once.\n",
        "They are useful when dealing with large datasets or infinite sequences, as they are memory-efficient and improve performance.\n",
        "\n",
        "- Generators are implemented using functions with the yield keyword instead of return. Each time the generator function is called, it resumes execution right after the last yield statement.\n",
        "\n",
        "✅ Key Features of Generators:\n",
        "\n",
        "1. They yield values one by one.\n",
        "\n",
        "2. They do not store all values in memory.\n",
        "\n",
        "3. They can be iterated using a loop or the next() function.\n",
        "\n",
        "4. They pause execution at each yield and resume when the next value is requested.\n",
        "\n",
        "- syntax:-  def my_generator():\n",
        "    yield 1\n",
        "    yield 2\n",
        "    yield 3\n"
      ],
      "metadata": {
        "id": "c4Jt6cvAJW22"
      }
    },
    {
      "cell_type": "markdown",
      "source": [
        "Q7. What are the advantages of using generators over regular functions?\n",
        "\n",
        "- Generators provide several advantages when compared to regular functions that return lists or other collections.\n",
        "\n",
        "✅ Advantages:\n",
        "\n",
        "1. Memory Efficiency\n",
        "\n",
        "- Regular functions that return lists hold the entire result in memory.\n",
        "\n",
        "- Generators yield one value at a time and don’t store the whole sequence, making them suitable for large datasets.\n",
        "\n",
        "- example:\n",
        "- def squares_list(n):\n",
        "    return [i**2 for i in range(n)]\n",
        "\n",
        "def squares_gen(n):\n",
        "    for i in range(n):\n",
        "        yield i**2\n",
        "\n",
        "\n",
        "2. Lazy Evaluation (On-demand computation)\n",
        "\n",
        "- Generators compute values only when requested, unlike regular functions that compute everything upfront.\n",
        "\n",
        "3. Infinite Sequences Handling\n",
        "\n",
        "- Regular functions cannot generate infinite sequences (would cause memory issues).\n",
        "\n",
        "- Generators can represent infinite streams easily.\n",
        "\n",
        "- example:\n",
        "- def infinite_numbers():\n",
        "    i = 1\n",
        "    while True:\n",
        "        yield i\n",
        "        i += 1\n",
        "\n",
        "\n",
        "4. Improved Performance\n",
        "\n",
        "- Since values are computed only when needed, generators often run faster in scenarios involving iteration over large datasets.\n",
        "\n",
        "5. Readable Code\n",
        "\n",
        "- They allow writing cleaner and more readable code compared to manually implementing iterator classes."
      ],
      "metadata": {
        "id": "wELRDXfzKOM3"
      }
    },
    {
      "cell_type": "markdown",
      "source": [
        "Q8. What is a lambda function in Python and when is it typically used?\n",
        "\n",
        "- A lambda function in Python is a small, anonymous function defined using the keyword lambda.\n",
        "- It can take any number of arguments but can only contain one expression.\n",
        "\n",
        "✅ Syntax:\n",
        "- lambda arguments: expression\n",
        "\n",
        "- The result of the expression is automatically returned.\n",
        "\n",
        "✅ Example:\n",
        "- def square(x):\n",
        "    return x * x\n",
        "\n",
        "square_lambda = lambda x: x * x\n",
        "\n",
        "print(square_lambda(5))  \n",
        "\n",
        "✅ When is it typically used?\n",
        "\n",
        "1. Short, throwaway functions (when defining a full function with def is unnecessary).\n",
        "\n",
        "2. Inside higher-order functions like map(), filter(), and reduce().\n",
        "\n",
        "- Example:-\n",
        "nums = [1, 2, 3, 4, 5]\n",
        "squares = list(map(lambda x: x**2, nums))\n",
        "print(squares)  # [1, 4, 9, 16, 25]\n",
        "evens = list(filter(lambda x: x % 2 == 0, nums))\n",
        "print(evens)  # [2, 4]\n",
        "\n",
        "3. Sorting with custom keys:\n",
        "\n",
        "words = [\"apple\", \"banana\", \"kiwi\", \"grape\"]\n",
        "words.sort(key=lambda w: len(w))\n",
        "print(words)  # ['kiwi', 'grape', 'apple', 'banana']\n"
      ],
      "metadata": {
        "id": "BWcr9jl0LFWg"
      }
    },
    {
      "cell_type": "markdown",
      "source": [
        "Q9. Explain the purpose and usage of the map() function in Python.\n",
        "\n",
        "- The map() function in Python is used to apply a given function to each item in an iterable (like a list, tuple, or set) and return a map object (which is an iterator).\n",
        "\n",
        "- This is useful when you want to transform each element of a collection without writing an explicit loop.\n",
        "\n",
        "✅ Syntax:\n",
        "- map(function, iterable)\n",
        "\n",
        "- function → the function to apply (can be a normal function or a lambda).\n",
        "\n",
        "- iterable → the collection of items to process.\n",
        "\n",
        "✅ Example 1: Using map() with a normal function\n",
        "def square(x):\n",
        "    return x * x\n",
        "\n",
        "numbers = [1, 2, 3, 4, 5]\n",
        "result = map(square, numbers)\n",
        "\n",
        "print(list(result))  \n",
        "\n",
        "✅ Example 2: Using map() with a lambda function\n",
        "numbers = [10, 20, 30]\n",
        "result = map(lambda x: x / 10, numbers)\n",
        "\n",
        "print(list(result))  \n",
        "\n",
        "✅ Example 3: Applying function to multiple iterables\n",
        "a = [1, 2, 3]\n",
        "b = [4, 5, 6]\n",
        "\n",
        "result = map(lambda x, y: x + y, a, b)\n",
        "print(list(result))  \n"
      ],
      "metadata": {
        "id": "InJ6tDwHMUzC"
      }
    },
    {
      "cell_type": "markdown",
      "source": [
        "Q10. What is the difference between map(), reduce(), and filter() functions in Python?\n",
        "\n",
        "- These three are functional programming tools in Python.\n",
        "\n",
        "✅ 1. map()\n",
        "\n",
        "- Purpose: Applies a function to every element of an iterable.\n",
        "\n",
        "- Returns: A new iterable with transformed elements.\n",
        "\n",
        "- Example:\n",
        "\n",
        "nums = [1, 2, 3, 4]\n",
        "result = map(lambda x: x * 2, nums)\n",
        "print(list(result))\n",
        "\n",
        "✅ 2. filter()\n",
        "\n",
        "- Purpose: Filters elements from an iterable based on a condition (boolean function).\n",
        "\n",
        "- Returns: A new iterable containing only elements where the function returned True.\n",
        "\n",
        "- Example:\n",
        "\n",
        "nums = [1, 2, 3, 4, 5, 6]\n",
        "result = filter(lambda x: x % 2 == 0, nums)\n",
        "print(list(result))  # [2, 4, 6]\n",
        "\n",
        "✅ 3. reduce()\n",
        "\n",
        "- Purpose: Applies a function cumulatively to elements of an iterable, reducing it to a single value.\n",
        "\n",
        "- Returns: One final result.\n",
        "\n",
        "- Note: It is available in functools module.\n",
        "\n",
        "- Example:\n",
        "\n",
        "- from functools import reduce\n",
        "\n",
        "nums = [1, 2, 3, 4]\n",
        "result = reduce(lambda x, y: x * y, nums)\n",
        "print(result)  # 24 (1*2*3*4)"
      ],
      "metadata": {
        "id": "LWt3k97NNbgE"
      }
    },
    {
      "cell_type": "code",
      "source": [
        "from IPython.display import Image, display\n",
        "\n",
        "# Show a local image\n",
        "display(Image(filename=\"/content/sum.jpg\"))\n"
      ],
      "metadata": {
        "colab": {
          "base_uri": "https://localhost:8080/",
          "height": 1000
        },
        "id": "ceuYy9iwfaNG",
        "outputId": "742d7eae-55fb-4ed5-fbb0-4e97b1a44dba"
      },
      "execution_count": 13,
      "outputs": [
        {
          "output_type": "display_data",
          "data": {
            "image/jpeg": "[encoded data removed]",
            "text/plain": [
              "<IPython.core.display.Image object>"
            ]
          },
          "metadata": {}
        }
      ]
    },
    {
      "cell_type": "markdown",
      "source": [
        "**Practical Questions:**"
      ],
      "metadata": {
        "id": "A4UgxoBrRWb4"
      }
    },
    {
      "cell_type": "markdown",
      "source": [
        "1. Write a Python function that takes a list of numbers as input and returns the sum of all even numbers in the list."
      ],
      "metadata": {
        "id": "AUisetLXRyXd"
      }
    },
    {
      "cell_type": "code",
      "source": [
        "def sum_of_evens(numbers):\n",
        "    return sum(num for num in numbers if num % 2 == 0)\n",
        "\n",
        "print(sum_of_evens([1, 2, 3, 4, 5, 6]))\n"
      ],
      "metadata": {
        "colab": {
          "base_uri": "https://localhost:8080/"
        },
        "id": "zocAJIVlRzjQ",
        "outputId": "fb4d375a-3de6-4538-d1de-c29a25e9f059"
      },
      "execution_count": 1,
      "outputs": [
        {
          "output_type": "stream",
          "name": "stdout",
          "text": [
            "12\n"
          ]
        }
      ]
    },
    {
      "cell_type": "markdown",
      "source": [
        "2. Create a Python function that accepts a string and returns the reverse of that string."
      ],
      "metadata": {
        "id": "C0spfE6KSA3N"
      }
    },
    {
      "cell_type": "code",
      "source": [
        "def reverse_string(s):\n",
        "    return s[::-1]\n",
        "\n",
        "print(reverse_string(\"Python\"))\n"
      ],
      "metadata": {
        "colab": {
          "base_uri": "https://localhost:8080/"
        },
        "id": "QSLGu2oRSBsp",
        "outputId": "6d85922e-683d-43ca-d76a-bdfd79a219aa"
      },
      "execution_count": 2,
      "outputs": [
        {
          "output_type": "stream",
          "name": "stdout",
          "text": [
            "nohtyP\n"
          ]
        }
      ]
    },
    {
      "cell_type": "markdown",
      "source": [
        "3. Implement a Python function that takes a list of integers and returns a new list containing the squares of\n",
        "each number."
      ],
      "metadata": {
        "id": "BfrjGI5kSLNo"
      }
    },
    {
      "cell_type": "code",
      "source": [
        "def squares_list(numbers):\n",
        "    return [x**2 for x in numbers]\n",
        "\n",
        "print(squares_list([1, 2, 3, 4]))\n"
      ],
      "metadata": {
        "colab": {
          "base_uri": "https://localhost:8080/"
        },
        "id": "VRHVa8qMSLvo",
        "outputId": "476ba1e3-e184-465b-e049-c5c709ab1055"
      },
      "execution_count": 3,
      "outputs": [
        {
          "output_type": "stream",
          "name": "stdout",
          "text": [
            "[1, 4, 9, 16]\n"
          ]
        }
      ]
    },
    {
      "cell_type": "markdown",
      "source": [
        "4. Write a Python function that checks if a given number is prime or not from 1 to 200."
      ],
      "metadata": {
        "id": "X6qWRM7WSU40"
      }
    },
    {
      "cell_type": "code",
      "source": [
        "def is_prime(n):\n",
        "    if n < 2:\n",
        "        return False\n",
        "    for i in range(2, int(n**0.5) + 1):\n",
        "        if n % i == 0:\n",
        "            return False\n",
        "    return True\n",
        "\n",
        "primes = [n for n in range(1, 201) if is_prime(n)]\n",
        "print(primes)\n"
      ],
      "metadata": {
        "colab": {
          "base_uri": "https://localhost:8080/"
        },
        "id": "aYv3Z3pPSVaz",
        "outputId": "2da46d41-f50c-40b2-a11e-06e9f08ab492"
      },
      "execution_count": 4,
      "outputs": [
        {
          "output_type": "stream",
          "name": "stdout",
          "text": [
            "[2, 3, 5, 7, 11, 13, 17, 19, 23, 29, 31, 37, 41, 43, 47, 53, 59, 61, 67, 71, 73, 79, 83, 89, 97, 101, 103, 107, 109, 113, 127, 131, 137, 139, 149, 151, 157, 163, 167, 173, 179, 181, 191, 193, 197, 199]\n"
          ]
        }
      ]
    },
    {
      "cell_type": "markdown",
      "source": [
        "5. Create an iterator class in Python that generates the Fibonacci sequence up to a specified number of\n",
        "terms."
      ],
      "metadata": {
        "id": "DTbyf22ASeC5"
      }
    },
    {
      "cell_type": "code",
      "source": [
        "class Fibonacci:\n",
        "    def __init__(self, terms):\n",
        "        self.terms = terms\n",
        "        self.a, self.b = 0, 1\n",
        "        self.count = 0\n",
        "\n",
        "    def __iter__(self):\n",
        "        return self\n",
        "\n",
        "    def __next__(self):\n",
        "        if self.count >= self.terms:\n",
        "            raise StopIteration\n",
        "        self.count += 1\n",
        "        self.a, self.b = self.b, self.a + self.b\n",
        "        return self.a\n",
        "\n",
        "for num in Fibonacci(10):\n",
        "    print(num, end=\" \")\n"
      ],
      "metadata": {
        "colab": {
          "base_uri": "https://localhost:8080/"
        },
        "id": "Wh2hM9PHSec8",
        "outputId": "aef6b2c4-a132-419c-d43a-679e8e96c630"
      },
      "execution_count": 5,
      "outputs": [
        {
          "output_type": "stream",
          "name": "stdout",
          "text": [
            "1 1 2 3 5 8 13 21 34 55 "
          ]
        }
      ]
    },
    {
      "cell_type": "markdown",
      "source": [
        "6. Write a generator function in Python that yields the powers of 2 up to a given exponent"
      ],
      "metadata": {
        "id": "kmYmqv3WSoFo"
      }
    },
    {
      "cell_type": "code",
      "source": [
        "def powers_of_two(n):\n",
        "    for i in range(n + 1):\n",
        "        yield 2 ** i\n",
        "\n",
        "for val in powers_of_two(5):\n",
        "    print(val, end=\" \")\n"
      ],
      "metadata": {
        "colab": {
          "base_uri": "https://localhost:8080/"
        },
        "id": "k9z_fDX0SomD",
        "outputId": "6341ebd5-cf0a-4e3c-db85-b3c9fbd58eb7"
      },
      "execution_count": 6,
      "outputs": [
        {
          "output_type": "stream",
          "name": "stdout",
          "text": [
            "1 2 4 8 16 32 "
          ]
        }
      ]
    },
    {
      "cell_type": "markdown",
      "source": [
        "7. Implement a generator function that reads a file line by line and yields each line as a string."
      ],
      "metadata": {
        "id": "eLF98D0bS0IX"
      }
    },
    {
      "cell_type": "code",
      "source": [
        "def read_file_line_by_line(filename):\n",
        "    with open(filename, 'r') as file:\n",
        "        for line in file:\n",
        "            yield line.strip()\n",
        "\n",
        "for line in read_file_line_by_line(\"test.txt\"):\n",
        "    print(line)\n"
      ],
      "metadata": {
        "colab": {
          "base_uri": "https://localhost:8080/",
          "height": 315
        },
        "collapsed": true,
        "id": "t3e4UNwFS3oP",
        "outputId": "10564f27-db75-4c5f-8f57-d13890337493"
      },
      "execution_count": 8,
      "outputs": [
        {
          "output_type": "error",
          "ename": "FileNotFoundError",
          "evalue": "[Errno 2] No such file or directory: 'test.txt'",
          "traceback": [
            "\u001b[0;31m---------------------------------------------------------------------------\u001b[0m",
            "\u001b[0;31mFileNotFoundError\u001b[0m                         Traceback (most recent call last)",
            "\u001b[0;32m/tmp/ipython-input-2729893966.py\u001b[0m in \u001b[0;36m<cell line: 0>\u001b[0;34m()\u001b[0m\n\u001b[1;32m      5\u001b[0m \u001b[0;34m\u001b[0m\u001b[0m\n\u001b[1;32m      6\u001b[0m \u001b[0;31m# Example (assume test.txt exists)\u001b[0m\u001b[0;34m\u001b[0m\u001b[0;34m\u001b[0m\u001b[0m\n\u001b[0;32m----> 7\u001b[0;31m \u001b[0;32mfor\u001b[0m \u001b[0mline\u001b[0m \u001b[0;32min\u001b[0m \u001b[0mread_file_line_by_line\u001b[0m\u001b[0;34m(\u001b[0m\u001b[0;34m\"test.txt\"\u001b[0m\u001b[0;34m)\u001b[0m\u001b[0;34m:\u001b[0m\u001b[0;34m\u001b[0m\u001b[0;34m\u001b[0m\u001b[0m\n\u001b[0m\u001b[1;32m      8\u001b[0m     \u001b[0mprint\u001b[0m\u001b[0;34m(\u001b[0m\u001b[0mline\u001b[0m\u001b[0;34m)\u001b[0m\u001b[0;34m\u001b[0m\u001b[0;34m\u001b[0m\u001b[0m\n",
            "\u001b[0;32m/tmp/ipython-input-2729893966.py\u001b[0m in \u001b[0;36mread_file_line_by_line\u001b[0;34m(filename)\u001b[0m\n\u001b[1;32m      1\u001b[0m \u001b[0;32mdef\u001b[0m \u001b[0mread_file_line_by_line\u001b[0m\u001b[0;34m(\u001b[0m\u001b[0mfilename\u001b[0m\u001b[0;34m)\u001b[0m\u001b[0;34m:\u001b[0m\u001b[0;34m\u001b[0m\u001b[0;34m\u001b[0m\u001b[0m\n\u001b[0;32m----> 2\u001b[0;31m     \u001b[0;32mwith\u001b[0m \u001b[0mopen\u001b[0m\u001b[0;34m(\u001b[0m\u001b[0mfilename\u001b[0m\u001b[0;34m,\u001b[0m \u001b[0;34m'r'\u001b[0m\u001b[0;34m)\u001b[0m \u001b[0;32mas\u001b[0m \u001b[0mfile\u001b[0m\u001b[0;34m:\u001b[0m\u001b[0;34m\u001b[0m\u001b[0;34m\u001b[0m\u001b[0m\n\u001b[0m\u001b[1;32m      3\u001b[0m         \u001b[0;32mfor\u001b[0m \u001b[0mline\u001b[0m \u001b[0;32min\u001b[0m \u001b[0mfile\u001b[0m\u001b[0;34m:\u001b[0m\u001b[0;34m\u001b[0m\u001b[0;34m\u001b[0m\u001b[0m\n\u001b[1;32m      4\u001b[0m             \u001b[0;32myield\u001b[0m \u001b[0mline\u001b[0m\u001b[0;34m.\u001b[0m\u001b[0mstrip\u001b[0m\u001b[0;34m(\u001b[0m\u001b[0;34m)\u001b[0m\u001b[0;34m\u001b[0m\u001b[0;34m\u001b[0m\u001b[0m\n\u001b[1;32m      5\u001b[0m \u001b[0;34m\u001b[0m\u001b[0m\n",
            "\u001b[0;31mFileNotFoundError\u001b[0m: [Errno 2] No such file or directory: 'test.txt'"
          ]
        }
      ]
    },
    {
      "cell_type": "markdown",
      "source": [
        "8. Use a lambda function in Python to sort a list of tuples based on the second element of each tuple."
      ],
      "metadata": {
        "id": "msuLwXeETJou"
      }
    },
    {
      "cell_type": "code",
      "source": [
        "data = [(1, 4), (2, 1), (3, 3), (4, 2)]\n",
        "sorted_data = sorted(data, key=lambda x: x[1])\n",
        "print(sorted_data)\n"
      ],
      "metadata": {
        "colab": {
          "base_uri": "https://localhost:8080/"
        },
        "id": "DitE-RvHTKe7",
        "outputId": "1f89442a-7084-42de-829d-b34a8ce3193e"
      },
      "execution_count": 9,
      "outputs": [
        {
          "output_type": "stream",
          "name": "stdout",
          "text": [
            "[(2, 1), (4, 2), (3, 3), (1, 4)]\n"
          ]
        }
      ]
    },
    {
      "cell_type": "markdown",
      "source": [
        "9. Write a Python program that uses `map()` to convert a list of temperatures from Celsius to Fahrenheit."
      ],
      "metadata": {
        "id": "AedwnbKcTSOp"
      }
    },
    {
      "cell_type": "code",
      "source": [
        "celsius = [0, 20, 37, 100]\n",
        "fahrenheit = list(map(lambda c: (c * 9/5) + 32, celsius))\n",
        "print(fahrenheit)\n"
      ],
      "metadata": {
        "colab": {
          "base_uri": "https://localhost:8080/"
        },
        "id": "Xtxhx7BMTS4k",
        "outputId": "946182c4-dc3f-47bf-937d-b040520ef0e9"
      },
      "execution_count": 10,
      "outputs": [
        {
          "output_type": "stream",
          "name": "stdout",
          "text": [
            "[32.0, 68.0, 98.6, 212.0]\n"
          ]
        }
      ]
    },
    {
      "cell_type": "markdown",
      "source": [
        "10. Create a Python program that uses `filter()` to remove all the vowels from a given string."
      ],
      "metadata": {
        "id": "p-dLHlrPTasM"
      }
    },
    {
      "cell_type": "code",
      "source": [
        "def remove_vowels(s):\n",
        "    vowels = \"aeiouAEIOU\"\n",
        "    return \"\".join(filter(lambda ch: ch not in vowels, s))\n",
        "\n",
        "print(remove_vowels(\"Hello World\"))\n",
        "\n"
      ],
      "metadata": {
        "colab": {
          "base_uri": "https://localhost:8080/"
        },
        "id": "7PPfpL96TbQW",
        "outputId": "95944a3f-610a-4eec-e3a0-28cbfb79ac96"
      },
      "execution_count": 11,
      "outputs": [
        {
          "output_type": "stream",
          "name": "stdout",
          "text": [
            "Hll Wrld\n"
          ]
        }
      ]
    },
    {
      "cell_type": "markdown",
      "source": [
        "(11) Imagine an accounting routine used in a book shop. It works on a list with sublists, which look like this:\n",
        "\n",
        "- Write a Python program, which returns a list with 2-tuples. Each tuple consists of the order number and the\n",
        "product of the price per item and the quantity. The product should be increased by 10,- € if the value of the\n",
        "order is smaller than 100,00 €.\n",
        "\n",
        "Write a Python program using lambda and map"
      ],
      "metadata": {
        "id": "4ZqHzhiOT-VD"
      }
    },
    {
      "cell_type": "code",
      "source": [
        "# Sample input data: [order_number, price_per_item, quantity]\n",
        "orders = [\n",
        "    [1, 20.0, 2],   # total = 40.0 → +10 surcharge = 50.0\n",
        "    [2, 15.0, 5],   # total = 75.0 → +10 surcharge = 85.0\n",
        "    [3, 25.0, 4],   # total = 100.0 → no surcharge\n",
        "    [4, 100.0, 1]   # total = 100.0 → no surcharge\n",
        "]\n",
        "\n",
        "# Using map + lambda\n",
        "result = list(map(lambda order: (order[0], order[1]*order[2] if order[1]*order[2] >= 100 else order[1]*order[2] + 10), orders))\n",
        "\n",
        "print(result)\n"
      ],
      "metadata": {
        "colab": {
          "base_uri": "https://localhost:8080/"
        },
        "id": "4eZLQXQmUGJP",
        "outputId": "f7956796-d5ca-4d51-cbb3-c95c03e6024a"
      },
      "execution_count": 12,
      "outputs": [
        {
          "output_type": "stream",
          "name": "stdout",
          "text": [
            "[(1, 50.0), (2, 85.0), (3, 100.0), (4, 100.0)]\n"
          ]
        }
      ]
    },
    {
      "cell_type": "code",
      "source": [],
      "metadata": {
        "id": "-fOV6MdeULpX"
      },
      "execution_count": null,
      "outputs": []
    }
  ]
}