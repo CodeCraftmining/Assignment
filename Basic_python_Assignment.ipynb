{
  "nbformat": 4,
  "nbformat_minor": 0,
  "metadata": {
    "colab": {
      "provenance": []
    },
    "kernelspec": {
      "name": "python3",
      "display_name": "Python 3"
    },
    "language_info": {
      "name": "python"
    }
  },
  "cells": [
    {
      "cell_type": "markdown",
      "source": [
        "\n",
        "**Assignment Questions**"
      ],
      "metadata": {
        "id": "QQ3WkT88SiJZ"
      }
    },
    {
      "cell_type": "markdown",
      "source": [
        "Theoretical Questions"
      ],
      "metadata": {
        "id": "ufk9zijmTGiy"
      }
    },
    {
      "cell_type": "markdown",
      "source": [
        "1. What is Python, and why is it popular?\n",
        "- Python is a high-level, interpreted, object-oriented programming language known for its simplicity and readability. It is popular because it has a large standard library, crossplatform support, extensive community, and is widely used in fields such as web development, data science, machine learning, automation, and more.\n",
        "\n",
        "2. What is an interpreter in Python?\n",
        "- An interpreter in Python is a program that directly executes the instructions in the source code line by line, without converting them into machine code beforehand.\n",
        "\n",
        "3. What are pre-defined keywords in Python?\n",
        "- Pre-defined keywords are reserved words in Python that have special meaning and purpose. Examples include: if, else, while, for, break, continue, def, return, etc.\n",
        "\n",
        "4. Can keywords be used as variable names?\n",
        "- No, keywords cannot be used as variable names because they are reserved by Python for special meanings and syntax.\n",
        "\n",
        "5. What is mutability in Python?\n",
        "- Mutability refers to whether an object’s state or value can be changed after it is created.Mutable objects can be changed, while immutable objects cannot.\n",
        "\n",
        "6. Why are lists mutable, but tuples are immutable?\n",
        "- Lists are designed to allow modifications such as adding, removing, or changing elements,making them mutable. Tuples, on the other hand, are meant to be fixed collections of items,so they are immutable.\n",
        "\n",
        "7. What is the difference between '==' and 'is' operators in Python?\n",
        "- '==' checks if two objects have the same value, while 'is' checks if two objects refer to the same memory location.\n",
        "\n",
        "8. What are logical operators in Python?\n",
        "- Logical operators are used to combine conditional statements. They include: and, or, and not.\n",
        "\n",
        "9. What is type casting in Python?\n",
        "- Type casting is the process of converting one data type into another, e.g., int to float or string to int.\n",
        "\n",
        "10. What is the difference between implicit and explicit type casting?\n",
        "- Implicit casting (type coercion) is done automatically by Python (e.g., int + float = float).Explicit casting is done manually using functions like int(), float(), str().\n",
        "\n",
        "11. What is the purpose of conditional statements in Python?\n",
        "- Conditional statements allow decision-making in programs by executing code blocks based on conditions (if-else).\n",
        "12. How does the elif statement work?\n",
        "- The 'elif' statement allows checking multiple conditions sequentially. It executes the first true condition and skips the rest.\n",
        "13. What is the difference between for and while loops?\n",
        "- For loop is used when the number of iterations is known, while loop is used when the number of iterations is not fixed and depends on a condition.\n",
        "14. Describe a scenario where a while loop is more suitable than a for loop.\n",
        "- A while loop is more suitable when we don’t know beforehand how many times a block of code should execute, such as reading input until the user enters 'exit'.\n"
      ],
      "metadata": {
        "id": "oICXFgsmTp0o"
      }
    },
    {
      "cell_type": "markdown",
      "source": [
        "**Practical** **Questions**"
      ],
      "metadata": {
        "id": "B0TeBs3iXFt4"
      }
    },
    {
      "cell_type": "markdown",
      "source": [
        "1. Write a Python program to print 'Hello, World!'"
      ],
      "metadata": {
        "id": "mAHB0cCdXZ9A"
      }
    },
    {
      "cell_type": "code",
      "source": [
        "print(\"Hello, World!\")"
      ],
      "metadata": {
        "colab": {
          "base_uri": "https://localhost:8080/"
        },
        "id": "b5d3hEe_Xa9O",
        "outputId": "d214e549-4f07-4865-e6bd-b53c3519357f"
      },
      "execution_count": 2,
      "outputs": [
        {
          "output_type": "stream",
          "name": "stdout",
          "text": [
            "Hello, World!\n"
          ]
        }
      ]
    },
    {
      "cell_type": "markdown",
      "source": [
        "2. Write a Python program that displays your name and age"
      ],
      "metadata": {
        "id": "SnGvUN3tXrFN"
      }
    },
    {
      "cell_type": "code",
      "source": [
        "name = \"Harsh Tripathi\"\n",
        "age = 21\n",
        "print(\"Name:\", name)\n",
        "print(\"Age:\", age)"
      ],
      "metadata": {
        "colab": {
          "base_uri": "https://localhost:8080/"
        },
        "id": "R8IUTlEfXr1B",
        "outputId": "73fd9128-e152-435e-81ab-48fce0c4f058"
      },
      "execution_count": 3,
      "outputs": [
        {
          "output_type": "stream",
          "name": "stdout",
          "text": [
            "Name: Harsh Tripathi\n",
            "Age: 21\n"
          ]
        }
      ]
    },
    {
      "cell_type": "markdown",
      "source": [
        "3. Write code to print all the pre-defined keywords in Python using the keyword\n",
        "library"
      ],
      "metadata": {
        "id": "mTKrEzPFX4YZ"
      }
    },
    {
      "cell_type": "code",
      "source": [
        "import keyword\n",
        "print(keyword.kwlist)\n"
      ],
      "metadata": {
        "colab": {
          "base_uri": "https://localhost:8080/"
        },
        "id": "pyYMGHaYX5Bk",
        "outputId": "d1846468-94f7-4870-981d-793c40e8ddf1"
      },
      "execution_count": 4,
      "outputs": [
        {
          "output_type": "stream",
          "name": "stdout",
          "text": [
            "['False', 'None', 'True', 'and', 'as', 'assert', 'async', 'await', 'break', 'class', 'continue', 'def', 'del', 'elif', 'else', 'except', 'finally', 'for', 'from', 'global', 'if', 'import', 'in', 'is', 'lambda', 'nonlocal', 'not', 'or', 'pass', 'raise', 'return', 'try', 'while', 'with', 'yield']\n"
          ]
        }
      ]
    },
    {
      "cell_type": "markdown",
      "source": [
        "4. Write a program that checks if a given word is a Python keyword.\n"
      ],
      "metadata": {
        "id": "vY16tbpzYEv7"
      }
    },
    {
      "cell_type": "code",
      "source": [
        "import keyword\n",
        "word = input(\"Enter a word: \")\n",
        "if keyword.iskeyword(word):\n",
        " print(word, \"is a Python keyword\")\n",
        "else:\n",
        " print(word, \"is not a Python keyword\")"
      ],
      "metadata": {
        "colab": {
          "base_uri": "https://localhost:8080/"
        },
        "id": "VpteU3HHYFQ6",
        "outputId": "ff68a7e3-bdd4-4ff8-ab1e-10d5699d9528"
      },
      "execution_count": 5,
      "outputs": [
        {
          "output_type": "stream",
          "name": "stdout",
          "text": [
            "Enter a word: harsh\n",
            "harsh is not a Python keyword\n"
          ]
        }
      ]
    },
    {
      "cell_type": "markdown",
      "source": [
        "5. Create a list and tuple in Python, and demonstrate how attempting to change\n",
        "an element works differently for each."
      ],
      "metadata": {
        "id": "5UOsyDLvYeSZ"
      }
    },
    {
      "cell_type": "code",
      "source": [
        "my_list = [1, 2, 3]\n",
        "my_tuple = (1, 2, 3)\n",
        "my_list[0] = 10 # Works fine\n",
        "print(\"Modified List:\", my_list)\n",
        "try:\n",
        " my_tuple[0] = 10\n",
        "except TypeError:\n",
        " print(\"Cannot modify tuple elements\")\n"
      ],
      "metadata": {
        "colab": {
          "base_uri": "https://localhost:8080/"
        },
        "id": "KuPdWrKpYgC4",
        "outputId": "2a7dff5c-6242-423d-d1ac-9c48220f7482"
      },
      "execution_count": 6,
      "outputs": [
        {
          "output_type": "stream",
          "name": "stdout",
          "text": [
            "Modified List: [10, 2, 3]\n",
            "Cannot modify tuple elements\n"
          ]
        }
      ]
    },
    {
      "cell_type": "markdown",
      "source": [
        "6. Write a function to demonstrate the behavior of mutable and immutable\n",
        "arguments"
      ],
      "metadata": {
        "id": "C0KJ_u-4Ysty"
      }
    },
    {
      "cell_type": "code",
      "source": [
        "def modify_data(a_list, a_number):\n",
        " a_list.append(100)\n",
        " a_number += 10\n",
        " return a_list, a_number\n",
        "nums = [1, 2, 3]\n",
        "n = 5\n",
        "print(modify_data(nums, n))\n",
        "print(\"Original list:\", nums)\n",
        "print(\"Original number:\", n)"
      ],
      "metadata": {
        "colab": {
          "base_uri": "https://localhost:8080/"
        },
        "id": "uVcqyFGXYtWo",
        "outputId": "95fa4cc8-4cbc-43a1-b301-dca1a950aedd"
      },
      "execution_count": 7,
      "outputs": [
        {
          "output_type": "stream",
          "name": "stdout",
          "text": [
            "([1, 2, 3, 100], 15)\n",
            "Original list: [1, 2, 3, 100]\n",
            "Original number: 5\n"
          ]
        }
      ]
    },
    {
      "cell_type": "markdown",
      "source": [
        "7. Write a program that performs basic arithmetic operations on two user-input\n",
        "numbers."
      ],
      "metadata": {
        "id": "IMZwy3LKYzgT"
      }
    },
    {
      "cell_type": "code",
      "source": [
        "a = int(input(\"Enter first number: \"))\n",
        "b = int(input(\"Enter second number: \"))\n",
        "print(\"Sum:\", a+b)\n",
        "print(\"Difference:\", a-b)\n",
        "print(\"Product:\", a*b)\n",
        "print(\"Quotient:\", a/b)"
      ],
      "metadata": {
        "colab": {
          "base_uri": "https://localhost:8080/"
        },
        "id": "Ynn_5s7kY0HI",
        "outputId": "7117eec6-7873-4995-d3a4-e345078702e0"
      },
      "execution_count": 8,
      "outputs": [
        {
          "output_type": "stream",
          "name": "stdout",
          "text": [
            "Enter first number: 5\n",
            "Enter second number: 6\n",
            "Sum: 11\n",
            "Difference: -1\n",
            "Product: 30\n",
            "Quotient: 0.8333333333333334\n"
          ]
        }
      ]
    },
    {
      "cell_type": "markdown",
      "source": [
        "8. Write a program to demonstrate the use of logical operators."
      ],
      "metadata": {
        "id": "3r83pPXcZfUq"
      }
    },
    {
      "cell_type": "code",
      "source": [
        "x = True\n",
        "y = False\n",
        "print(\"x and y:\", x and y)\n",
        "print(\"x or y:\", x or y)\n",
        "print(\"not x:\", not x)"
      ],
      "metadata": {
        "colab": {
          "base_uri": "https://localhost:8080/"
        },
        "id": "x5pBYpkjZf4Y",
        "outputId": "c55960a9-2418-4ff8-a3da-95a3ecaa54e5"
      },
      "execution_count": 10,
      "outputs": [
        {
          "output_type": "stream",
          "name": "stdout",
          "text": [
            "x and y: False\n",
            "x or y: True\n",
            "not x: False\n"
          ]
        }
      ]
    },
    {
      "cell_type": "markdown",
      "source": [
        "9. Write a Python program to convert user input from string to integer, float,\n",
        "and boolean types.\n"
      ],
      "metadata": {
        "id": "IerbK-g7ZqFJ"
      }
    },
    {
      "cell_type": "code",
      "source": [
        "s = input(\"Enter a value: \")\n",
        "print(\"String:\", s)\n",
        "print(\"Integer:\", int(s))\n",
        "print(\"Float:\", float(s))\n",
        "print(\"Boolean:\", bool(s))"
      ],
      "metadata": {
        "colab": {
          "base_uri": "https://localhost:8080/"
        },
        "id": "HKgSXXBrZqt8",
        "outputId": "23376a5b-0566-493f-bf49-ef9b1e2ff815"
      },
      "execution_count": 11,
      "outputs": [
        {
          "output_type": "stream",
          "name": "stdout",
          "text": [
            "Enter a value: 5\n",
            "String: 5\n",
            "Integer: 5\n",
            "Float: 5.0\n",
            "Boolean: True\n"
          ]
        }
      ]
    },
    {
      "cell_type": "markdown",
      "source": [
        "10. Write code to demonstrate type casting with list elements."
      ],
      "metadata": {
        "id": "QETrfjvRZ6zE"
      }
    },
    {
      "cell_type": "code",
      "source": [
        "nums = [\"1\", \"2\", \"3\"]\n",
        "nums = list(map(int, nums))\n",
        "print(nums)"
      ],
      "metadata": {
        "colab": {
          "base_uri": "https://localhost:8080/"
        },
        "id": "qkZKZvvZZ7gU",
        "outputId": "22604adc-1892-431e-cada-6b8e070277cb"
      },
      "execution_count": 12,
      "outputs": [
        {
          "output_type": "stream",
          "name": "stdout",
          "text": [
            "[1, 2, 3]\n"
          ]
        }
      ]
    },
    {
      "cell_type": "markdown",
      "source": [
        "11. Write a program that checks if a number is positive, negative, or zero."
      ],
      "metadata": {
        "id": "2qVR5mHPaB9w"
      }
    },
    {
      "cell_type": "code",
      "source": [
        "n = int(input(\"Enter a number: \"))\n",
        "if n > 0:\n",
        " print(\"Positive\")\n",
        "elif n < 0:\n",
        " print(\"Negative\")\n",
        "else:\n",
        " print(\"Zero\")"
      ],
      "metadata": {
        "colab": {
          "base_uri": "https://localhost:8080/"
        },
        "id": "wYzfiIY1aCf9",
        "outputId": "5f2ee148-3a50-4549-e590-ff63d384b493"
      },
      "execution_count": 13,
      "outputs": [
        {
          "output_type": "stream",
          "name": "stdout",
          "text": [
            "Enter a number: 5\n",
            "Positive\n"
          ]
        }
      ]
    },
    {
      "cell_type": "markdown",
      "source": [
        "12. Write a for loop to print numbers from 1 to 10."
      ],
      "metadata": {
        "id": "iUPrvTeRaLkO"
      }
    },
    {
      "cell_type": "code",
      "source": [
        "for i in range(1, 11):\n",
        " print(i)"
      ],
      "metadata": {
        "colab": {
          "base_uri": "https://localhost:8080/"
        },
        "id": "ZjBECMhfaMH1",
        "outputId": "8b42ce46-e7a6-446c-a5e2-24863011e422"
      },
      "execution_count": 14,
      "outputs": [
        {
          "output_type": "stream",
          "name": "stdout",
          "text": [
            "1\n",
            "2\n",
            "3\n",
            "4\n",
            "5\n",
            "6\n",
            "7\n",
            "8\n",
            "9\n",
            "10\n"
          ]
        }
      ]
    },
    {
      "cell_type": "markdown",
      "source": [
        "13. Write a Python program to find the sum of all even numbers between 1 and\n",
        "50."
      ],
      "metadata": {
        "id": "htx7yu-9aSh6"
      }
    },
    {
      "cell_type": "code",
      "source": [
        "total = 0\n",
        "for i in range(1, 51):\n",
        " if i % 2 == 0:\n",
        "  total += i\n",
        "print(\"Sum of even numbers:\", total)\n"
      ],
      "metadata": {
        "colab": {
          "base_uri": "https://localhost:8080/"
        },
        "id": "6rhOG4_QaTC4",
        "outputId": "763107f0-8189-4e66-c5a3-3158fcb7d175"
      },
      "execution_count": 16,
      "outputs": [
        {
          "output_type": "stream",
          "name": "stdout",
          "text": [
            "Sum of even numbers: 650\n"
          ]
        }
      ]
    },
    {
      "cell_type": "markdown",
      "source": [
        "14. Write a program to reverse a string using a while loop"
      ],
      "metadata": {
        "id": "xw3WWcvAapo4"
      }
    },
    {
      "cell_type": "code",
      "source": [
        "s = input(\"Enter a string: \")\n",
        "reversed_str = \"\"\n",
        "i = len(s) - 1\n",
        "while i >= 0:\n",
        " reversed_str += s[i]\n",
        " i -= 1\n",
        "print(\"Reversed string:\", reversed_str)"
      ],
      "metadata": {
        "colab": {
          "base_uri": "https://localhost:8080/"
        },
        "id": "K2UpCjKtaqIz",
        "outputId": "3ae8d31f-a782-47ca-ccab-f4a86c96e622"
      },
      "execution_count": 18,
      "outputs": [
        {
          "output_type": "stream",
          "name": "stdout",
          "text": [
            "Enter a string: 5\n",
            "Reversed string: 5\n"
          ]
        }
      ]
    },
    {
      "cell_type": "markdown",
      "source": [
        "15. Write a Python program to calculate the factorial of a number provided by\n",
        "the user using a while loop."
      ],
      "metadata": {
        "id": "8eyh1AmkbICJ"
      }
    },
    {
      "cell_type": "code",
      "source": [
        "n = int(input(\"Enter a number: \"))\n",
        "fact = 1\n",
        "i = 1\n",
        "while i <= n:\n",
        " fact *= i\n",
        " i += 1\n",
        "print(\"Factorial:\", fact)"
      ],
      "metadata": {
        "colab": {
          "base_uri": "https://localhost:8080/"
        },
        "id": "zPxgt00mbIxz",
        "outputId": "2ecd1ea3-7096-4c26-b135-57d38bb2be37"
      },
      "execution_count": 19,
      "outputs": [
        {
          "output_type": "stream",
          "name": "stdout",
          "text": [
            "Enter a number: 4\n",
            "Factorial: 24\n"
          ]
        }
      ]
    },
    {
      "cell_type": "code",
      "source": [],
      "metadata": {
        "id": "gHtYsOW2bLrG"
      },
      "execution_count": null,
      "outputs": []
    }
  ]
}